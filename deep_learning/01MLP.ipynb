{
 "cells": [
  {
   "cell_type": "code",
   "execution_count": 1,
   "id": "f1e28024-0d46-4568-9e91-2fd69104eae2",
   "metadata": {},
   "outputs": [],
   "source": [
    "import torch\n",
    "from torchvision import datasets\n",
    "from torchvision import transforms\n",
    "import torch.nn as nn\n",
    "import torch.optim as optim"
   ]
  },
  {
   "cell_type": "code",
   "execution_count": 2,
   "id": "4ad45fec-cddb-4594-a834-a98ae2d1ddc6",
   "metadata": {},
   "outputs": [
    {
     "name": "stdout",
     "output_type": "stream",
     "text": [
      "Downloading http://yann.lecun.com/exdb/mnist/train-images-idx3-ubyte.gz\n",
      "Failed to download (trying next):\n",
      "HTTP Error 403: Forbidden\n",
      "\n",
      "Downloading https://ossci-datasets.s3.amazonaws.com/mnist/train-images-idx3-ubyte.gz\n",
      "Downloading https://ossci-datasets.s3.amazonaws.com/mnist/train-images-idx3-ubyte.gz to MNIST/raw/train-images-idx3-ubyte.gz\n"
     ]
    },
    {
     "name": "stderr",
     "output_type": "stream",
     "text": [
      "100.0%\n"
     ]
    },
    {
     "name": "stdout",
     "output_type": "stream",
     "text": [
      "Extracting MNIST/raw/train-images-idx3-ubyte.gz to MNIST/raw\n",
      "\n",
      "Downloading http://yann.lecun.com/exdb/mnist/train-labels-idx1-ubyte.gz\n",
      "Failed to download (trying next):\n",
      "HTTP Error 403: Forbidden\n",
      "\n",
      "Downloading https://ossci-datasets.s3.amazonaws.com/mnist/train-labels-idx1-ubyte.gz\n",
      "Downloading https://ossci-datasets.s3.amazonaws.com/mnist/train-labels-idx1-ubyte.gz to MNIST/raw/train-labels-idx1-ubyte.gz\n"
     ]
    },
    {
     "name": "stderr",
     "output_type": "stream",
     "text": [
      "100.0%\n"
     ]
    },
    {
     "name": "stdout",
     "output_type": "stream",
     "text": [
      "Extracting MNIST/raw/train-labels-idx1-ubyte.gz to MNIST/raw\n",
      "\n",
      "Downloading http://yann.lecun.com/exdb/mnist/t10k-images-idx3-ubyte.gz\n",
      "Failed to download (trying next):\n",
      "HTTP Error 403: Forbidden\n",
      "\n",
      "Downloading https://ossci-datasets.s3.amazonaws.com/mnist/t10k-images-idx3-ubyte.gz\n",
      "Downloading https://ossci-datasets.s3.amazonaws.com/mnist/t10k-images-idx3-ubyte.gz to MNIST/raw/t10k-images-idx3-ubyte.gz\n"
     ]
    },
    {
     "name": "stderr",
     "output_type": "stream",
     "text": [
      "100.0%\n"
     ]
    },
    {
     "name": "stdout",
     "output_type": "stream",
     "text": [
      "Extracting MNIST/raw/t10k-images-idx3-ubyte.gz to MNIST/raw\n",
      "\n",
      "Downloading http://yann.lecun.com/exdb/mnist/t10k-labels-idx1-ubyte.gz\n",
      "Failed to download (trying next):\n",
      "HTTP Error 403: Forbidden\n",
      "\n",
      "Downloading https://ossci-datasets.s3.amazonaws.com/mnist/t10k-labels-idx1-ubyte.gz\n",
      "Downloading https://ossci-datasets.s3.amazonaws.com/mnist/t10k-labels-idx1-ubyte.gz to MNIST/raw/t10k-labels-idx1-ubyte.gz\n"
     ]
    },
    {
     "name": "stderr",
     "output_type": "stream",
     "text": [
      "100.0%"
     ]
    },
    {
     "name": "stdout",
     "output_type": "stream",
     "text": [
      "Extracting MNIST/raw/t10k-labels-idx1-ubyte.gz to MNIST/raw\n",
      "\n"
     ]
    },
    {
     "name": "stderr",
     "output_type": "stream",
     "text": [
      "\n"
     ]
    }
   ],
   "source": [
    "train_data = datasets.MNIST(root='', train=True, transform=transforms.ToTensor(), download=True)\n",
    "test_data = datasets.MNIST(root='', train=False, transform=transforms.ToTensor(), download=True)"
   ]
  },
  {
   "cell_type": "code",
   "execution_count": 8,
   "id": "b5df78c9-044f-490b-9932-2b676f6232e4",
   "metadata": {},
   "outputs": [],
   "source": [
    "batch_size = 100\n",
    "train_loader = torch.utils.data.DataLoader(dataset=train_data, batch_size=batch_size, shuffle=True)\n",
    "test_loader = torch.utils.data.DataLoader(dataset=test_data, batch_size=batch_size, shuffle=True)"
   ]
  },
  {
   "cell_type": "code",
   "execution_count": 9,
   "id": "209f789e-3045-45e4-b535-f975f8691e7e",
   "metadata": {},
   "outputs": [],
   "source": [
    "class MLP(nn.Module):\n",
    "    def __init__(self, input_size, hidden_size, num_classes):\n",
    "        super(MLP, self).__init__()\n",
    "        self.fc1 = nn.Linear(input_size, hidden_size)\n",
    "        self.relu = nn.ReLU()\n",
    "        self.fc2 = nn.Linear(hidden_size, hidden_size)\n",
    "        self.fc3 = nn.Linear(hidden_size, num_classes)\n",
    "        \n",
    "    def forward(self, x):\n",
    "        out = self.fc1(x)\n",
    "        out = self.relu(out)\n",
    "        out = self.fc2(out)\n",
    "        out = self.relu(out)\n",
    "        out = self.fc3(out)\n",
    "        return out\n",
    "\n",
    "input_size = 28*28\n",
    "hidden_size = 512\n",
    "num_classes = 10\n",
    "model = MLP(input_size, hidden_size, num_classes)"
   ]
  },
  {
   "cell_type": "code",
   "execution_count": 10,
   "id": "9e51971b-15cd-4a13-a584-136bd5f2faa4",
   "metadata": {},
   "outputs": [],
   "source": [
    "criterion = nn.CrossEntropyLoss()"
   ]
  },
  {
   "cell_type": "code",
   "execution_count": 11,
   "id": "2a7d58a4-a9d2-4a4b-a724-13ee688b705f",
   "metadata": {},
   "outputs": [],
   "source": [
    "learning_rate = 0.001\n",
    "optimizer = optim.Adam(model.parameters(),lr=learning_rate)"
   ]
  },
  {
   "cell_type": "code",
   "execution_count": 16,
   "id": "4f9c45f8-6d50-45f2-87df-1ef94c920b1e",
   "metadata": {},
   "outputs": [
    {
     "name": "stdout",
     "output_type": "stream",
     "text": [
      "Epoch [1/10], Step [100/600], Loss: 0.0029\n",
      "Epoch [1/10], Step [200/600], Loss: 0.0406\n",
      "Epoch [1/10], Step [300/600], Loss: 0.0004\n",
      "Epoch [1/10], Step [400/600], Loss: 0.0200\n",
      "Epoch [1/10], Step [500/600], Loss: 0.0034\n",
      "Epoch [1/10], Step [600/600], Loss: 0.0084\n",
      "Epoch [2/10], Step [100/600], Loss: 0.0001\n",
      "Epoch [2/10], Step [200/600], Loss: 0.0001\n",
      "Epoch [2/10], Step [300/600], Loss: 0.0018\n",
      "Epoch [2/10], Step [400/600], Loss: 0.0669\n",
      "Epoch [2/10], Step [500/600], Loss: 0.0062\n",
      "Epoch [2/10], Step [600/600], Loss: 0.0158\n",
      "Epoch [3/10], Step [100/600], Loss: 0.0560\n",
      "Epoch [3/10], Step [200/600], Loss: 0.0018\n",
      "Epoch [3/10], Step [300/600], Loss: 0.0002\n",
      "Epoch [3/10], Step [400/600], Loss: 0.0034\n",
      "Epoch [3/10], Step [500/600], Loss: 0.0006\n",
      "Epoch [3/10], Step [600/600], Loss: 0.0157\n",
      "Epoch [4/10], Step [100/600], Loss: 0.0005\n",
      "Epoch [4/10], Step [200/600], Loss: 0.0004\n",
      "Epoch [4/10], Step [300/600], Loss: 0.0197\n",
      "Epoch [4/10], Step [400/600], Loss: 0.0004\n",
      "Epoch [4/10], Step [500/600], Loss: 0.0002\n",
      "Epoch [4/10], Step [600/600], Loss: 0.0004\n",
      "Epoch [5/10], Step [100/600], Loss: 0.0000\n",
      "Epoch [5/10], Step [200/600], Loss: 0.0002\n",
      "Epoch [5/10], Step [300/600], Loss: 0.0010\n",
      "Epoch [5/10], Step [400/600], Loss: 0.0002\n",
      "Epoch [5/10], Step [500/600], Loss: 0.0019\n",
      "Epoch [5/10], Step [600/600], Loss: 0.0205\n",
      "Epoch [6/10], Step [100/600], Loss: 0.0000\n",
      "Epoch [6/10], Step [200/600], Loss: 0.0000\n",
      "Epoch [6/10], Step [300/600], Loss: 0.0001\n",
      "Epoch [6/10], Step [400/600], Loss: 0.0004\n",
      "Epoch [6/10], Step [500/600], Loss: 0.0001\n",
      "Epoch [6/10], Step [600/600], Loss: 0.0022\n",
      "Epoch [7/10], Step [100/600], Loss: 0.0005\n",
      "Epoch [7/10], Step [200/600], Loss: 0.0005\n",
      "Epoch [7/10], Step [300/600], Loss: 0.0029\n",
      "Epoch [7/10], Step [400/600], Loss: 0.0141\n",
      "Epoch [7/10], Step [500/600], Loss: 0.0093\n",
      "Epoch [7/10], Step [600/600], Loss: 0.0010\n",
      "Epoch [8/10], Step [100/600], Loss: 0.0059\n",
      "Epoch [8/10], Step [200/600], Loss: 0.0010\n",
      "Epoch [8/10], Step [300/600], Loss: 0.0001\n",
      "Epoch [8/10], Step [400/600], Loss: 0.0001\n",
      "Epoch [8/10], Step [500/600], Loss: 0.0570\n",
      "Epoch [8/10], Step [600/600], Loss: 0.0008\n",
      "Epoch [9/10], Step [100/600], Loss: 0.0000\n",
      "Epoch [9/10], Step [200/600], Loss: 0.0003\n",
      "Epoch [9/10], Step [300/600], Loss: 0.0001\n",
      "Epoch [9/10], Step [400/600], Loss: 0.0007\n",
      "Epoch [9/10], Step [500/600], Loss: 0.0644\n",
      "Epoch [9/10], Step [600/600], Loss: 0.0033\n",
      "Epoch [10/10], Step [100/600], Loss: 0.0001\n",
      "Epoch [10/10], Step [200/600], Loss: 0.0008\n",
      "Epoch [10/10], Step [300/600], Loss: 0.0000\n",
      "Epoch [10/10], Step [400/600], Loss: 0.0000\n",
      "Epoch [10/10], Step [500/600], Loss: 0.0000\n",
      "Epoch [10/10], Step [600/600], Loss: 0.0000\n"
     ]
    }
   ],
   "source": [
    "# 训练网络\n",
    "num_epochs = 10 # 训练轮数\n",
    "for epoch in range(num_epochs):\n",
    "    for i, (images, labels) in enumerate(train_loader):\n",
    "        # 将images转成向量\n",
    "        images = images.reshape(-1, 28 * 28)\n",
    "        # 将数据送入网络中\n",
    "        outputs = model(images)\n",
    "        # 计算损失\n",
    "        loss = criterion(outputs, labels)\n",
    "        # 清零梯度\n",
    "        optimizer.zero_grad()\n",
    "        # 反向传播\n",
    "        loss.backward()\n",
    "        # 更新参数\n",
    "        optimizer.step()\n",
    "        if (i+1) % 100 ==0:\n",
    "            print(f'Epoch [{epoch+1}/{num_epochs}], Step [{i+1}/{len(train_loader)}], Loss: {loss.item():.4f}')"
   ]
  },
  {
   "cell_type": "code",
   "execution_count": 17,
   "id": "49f6f4bc-26d2-45d8-8882-edff0102710d",
   "metadata": {},
   "outputs": [
    {
     "name": "stdout",
     "output_type": "stream",
     "text": [
      "Accuracy of the network on the 10000 test images: 98.48 %\n"
     ]
    }
   ],
   "source": [
    "# 测试网络\n",
    "with torch.no_grad():\n",
    "    correct = 0\n",
    "    total = 0\n",
    "    # 从test_loader中循环获取测试数据\n",
    "    for images, labels in test_loader:\n",
    "        # 将images转化为晨\n",
    "        images = images.reshape(-1, 28 * 28)\n",
    "        # 将数据送入网络\n",
    "        outputs = model(images)\n",
    "        # 取出最大值对应的索引，即预测值\n",
    "        _, predicted = torch.max(outputs.data, 1)\n",
    "        # 计算label数量\n",
    "        total += labels.size(0)\n",
    "        # 预测值与labels相比较，获取预测正确的数量\n",
    "        correct += (predicted == labels).sum().item()\n",
    "    # 打印最终的准确率\n",
    "    print(f'Accuracy of the network on the 10000 test images: {100 * correct / total} %')"
   ]
  },
  {
   "cell_type": "code",
   "execution_count": 18,
   "id": "a072f218-97f9-4e15-adf5-07e5a1df33e1",
   "metadata": {},
   "outputs": [],
   "source": [
    "torch.save(model,\"handwrite.pkl\")"
   ]
  }
 ],
 "metadata": {
  "kernelspec": {
   "display_name": "Python 3 (ipykernel)",
   "language": "python",
   "name": "python3"
  },
  "language_info": {
   "codemirror_mode": {
    "name": "ipython",
    "version": 3
   },
   "file_extension": ".py",
   "mimetype": "text/x-python",
   "name": "python",
   "nbconvert_exporter": "python",
   "pygments_lexer": "ipython3",
   "version": "3.12.0"
  }
 },
 "nbformat": 4,
 "nbformat_minor": 5
}
