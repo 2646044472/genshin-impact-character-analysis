{
 "cells": [
  {
   "cell_type": "code",
   "execution_count": 2,
   "id": "67f5e5cb-3440-411e-96b0-1030b5d2b77f",
   "metadata": {},
   "outputs": [],
   "source": [
    "import torch\n",
    "import torchvision\n",
    "\n",
    "transformation = torchvision.transforms.ToTensor()\n",
    "train_dataset = torchvision.datasets.MNIST(root='./mnist/data', train=True, download=True, transform=transformation)\n",
    "test_dataset = torchvision.datasets.MNIST(root='./mnist/data', train=False, download=True, transform=transformation)"
   ]
  },
  {
   "cell_type": "code",
   "execution_count": 6,
   "id": "f304ae08-2d83-44d5-8700-0dc2093e3e7c",
   "metadata": {},
   "outputs": [],
   "source": [
    "batch_size = 64\n",
    "train_dataloader = torch.utils.data.DataLoader(train_dataset, batch_size=batch_size, shuffle=True)\n",
    "test_dataloader = torch.utils.data.DataLoader(test_dataset, batch_size=batch_size, shuffle=True)"
   ]
  },
  {
   "cell_type": "code",
   "execution_count": 8,
   "id": "9731c2af-1845-4216-b6aa-19abb86cacb1",
   "metadata": {},
   "outputs": [],
   "source": [
    "import torch.nn as nn \n",
    "class Model(nn.Module):\n",
    "    def __init__(self, input_size, output_size):\n",
    "        super().__init__() \n",
    "        self.linear = nn.Linear(input_size,output_size)\n",
    "    def forward(self, x): \n",
    "        logits = self.linear(x) \n",
    "        return logits "
   ]
  },
  {
   "cell_type": "code",
   "execution_count": 9,
   "id": "24e44979-3c5e-427b-9da5-719f0b7d8b03",
   "metadata": {},
   "outputs": [],
   "source": [
    "input_size = 28*28 \n",
    "output_size = 10 \n",
    "model = Model(input_size,output_size)"
   ]
  },
  {
   "cell_type": "code",
   "execution_count": 10,
   "id": "de157c46-47cc-431f-adb4-69ff7ae52435",
   "metadata": {},
   "outputs": [],
   "source": [
    "criterion = nn.CrossEntropyLoss()\n",
    "optimizer = torch.optim.SGD(model.parameters(), lr=0.01)"
   ]
  },
  {
   "cell_type": "code",
   "execution_count": 11,
   "id": "1aa3866f-c3d0-4875-9dbd-3ca3e1d5557b",
   "metadata": {},
   "outputs": [],
   "source": [
    "def evaluate(model, data_loader):\n",
    "    model.eval()\n",
    "    correct = 0\n",
    "    total = 0\n",
    "    with torch.no_grad():\n",
    "        for x, y in data_loader:\n",
    "            x = x.view(-1, input_size)\n",
    "            logits = model(x)\n",
    "            _, predicted = torch.max(logits.data, 1)\n",
    "            total += y.size(0)\n",
    "            correct += (predicted == y).sum().item()\n",
    "    return correct / total"
   ]
  },
  {
   "cell_type": "code",
   "execution_count": 12,
   "id": "e707edb4-cb78-4b3a-a67d-4453315c2c11",
   "metadata": {},
   "outputs": [
    {
     "name": "stdout",
     "output_type": "stream",
     "text": [
      "Epoch 1: test accuracy = 0.87\n",
      "Epoch 2: test accuracy = 0.88\n",
      "Epoch 3: test accuracy = 0.89\n",
      "Epoch 4: test accuracy = 0.90\n",
      "Epoch 5: test accuracy = 0.90\n",
      "Epoch 6: test accuracy = 0.90\n",
      "Epoch 7: test accuracy = 0.91\n",
      "Epoch 8: test accuracy = 0.91\n",
      "Epoch 9: test accuracy = 0.91\n",
      "Epoch 10: test accuracy = 0.91\n"
     ]
    }
   ],
   "source": [
    "for epoch in range(10):\n",
    "    for images, labels in train_dataloader:\n",
    "        # 将图像和标签转换成张量\n",
    "        images = images.view(-1, 28*28)\n",
    "        labels = labels.long()\n",
    "\n",
    "        # 前向传播\n",
    "        outputs = model(images)\n",
    "        loss = criterion(outputs, labels)\n",
    "\n",
    "        # 反向传播和优化\n",
    "        optimizer.zero_grad()\n",
    "        loss.backward()\n",
    "        optimizer.step()\n",
    "\n",
    "    accuracy = evaluate(model, test_dataloader)\n",
    "    print(f'Epoch {epoch+1}: test accuracy = {accuracy:.2f}')"
   ]
  }
 ],
 "metadata": {
  "kernelspec": {
   "display_name": "Python 3 (ipykernel)",
   "language": "python",
   "name": "python3"
  },
  "language_info": {
   "codemirror_mode": {
    "name": "ipython",
    "version": 3
   },
   "file_extension": ".py",
   "mimetype": "text/x-python",
   "name": "python",
   "nbconvert_exporter": "python",
   "pygments_lexer": "ipython3",
   "version": "3.12.0"
  }
 },
 "nbformat": 4,
 "nbformat_minor": 5
}
