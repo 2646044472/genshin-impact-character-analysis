{
 "cells": [
  {
   "cell_type": "markdown",
   "id": "e111b271-dc7c-43c9-b181-20ab9273fc60",
   "metadata": {},
   "source": [
    "https://tatoeba.org/zh-cn/"
   ]
  },
  {
   "cell_type": "code",
   "execution_count": 6,
   "id": "dcea2eef-4990-401f-8054-40ccdcc851a2",
   "metadata": {},
   "outputs": [],
   "source": [
    "dataset_name = \"data/eng2chinese.tsv\""
   ]
  },
  {
   "cell_type": "code",
   "execution_count": 7,
   "id": "6aa9d868-cf14-4feb-9012-7051f51d5526",
   "metadata": {},
   "outputs": [
    {
     "name": "stdout",
     "output_type": "stream",
     "text": [
      "['\\ufeff1277\\tI have to go to sleep.\\t2\\t我该去睡觉了。\\n', \"1280\\tToday is June 18th and it is Muiriel's birthday!\\t5\\t今天是６月１８号，也是Muiriel的生日！\\n\", '1282\\tMuiriel is 20 now.\\t7\\tMuiriel现在20岁了。\\n', '1283\\tThe password is \"Muiriel\".\\t8\\t密码是\"Muiriel\"。\\n', '1284\\tI will be back soon.\\t9\\t我很快就會回來。\\n']\n"
     ]
    }
   ],
   "source": [
    "import torch\n",
    "import torch.nn as nn\n",
    "\n",
    "# 直接读取\n",
    "with open(dataset_name, encoding='utf-8') as f:\n",
    "    lines = f.readlines()\n",
    "print(lines[:5])"
   ]
  },
  {
   "cell_type": "code",
   "execution_count": 8,
   "id": "56599d4d-eb6f-4ee0-98e8-a7a12fcfba1e",
   "metadata": {},
   "outputs": [
    {
     "name": "stdout",
     "output_type": "stream",
     "text": [
      "['I have to go to sleep.\\t我该去睡觉了。', \"Today is June 18th and it is Muiriel's birthday!\\t今天是６月１８号，也是Muiriel的生日！\", 'Muiriel is 20 now.\\tMuiriel现在20岁了。', 'The password is \"Muiriel\".\\t密码是\"Muiriel\"。', 'I will be back soon.\\t我很快就會回來。']\n"
     ]
    }
   ],
   "source": [
    "# 只读取有效内容\n",
    "with open(dataset_name, encoding='utf-8') as f:\n",
    "    data = []\n",
    "    for line in f.readlines():\n",
    "        data.append(line.strip().split('\\t')[1]+'\\t'+line.strip().split('\\t')[3])\n",
    "print(data[:5])"
   ]
  },
  {
   "cell_type": "code",
   "execution_count": 12,
   "id": "3b6d887d-db4d-40c3-9ed7-5082dec75e78",
   "metadata": {},
   "outputs": [
    {
     "name": "stdout",
     "output_type": "stream",
     "text": [
      "{'＂', '「', '\\xad', 'ì', '$', '𣬠', '１', '→', '’', '》', 'ã', '\\u3000', '；', 'ù', 'Ｑ', '︀', '\\u202f', ' ', '〇', 'ń', '３', 'ß', '·', 'ö', '⋯', '─', '‐', 'あ', '？', 'Ü', '﹐', 'è', 'ō', 'ę', '€', 'á', '–', \"'\", 'α', 'ç', '(', '+', '\\t', '𣬶', '?', '‧', '６', '‘', '»', '•', 'é', 'í', 'ü', '°', '）', '：', '-', '₣', '０', 'ā', '/', '。', 'ł', '！', '«', '﹣', '%', 'ǎ', 'β', '@', 'ū', '～', '」', '５', '”', ')', '—', 'ī', '\\u200b', '％', '《', '!', '』', 'ó', '…', '（', ',', '[', 'ò', ':', '.', '『', ';', '_', '\"', '，', '☭', '“', '８', '、', '&', 'а', ']', 'à', 'ï', '－'}\n"
     ]
    }
   ],
   "source": [
    "# 我出特殊字符\n",
    "import re\n",
    "import string\n",
    "\n",
    "content = \"\".join(data)\n",
    "special_char = re.sub(r'[\\u4e00-\\u9fa5]', '', content)  # 匹配中文，将中文替换掉\n",
    "\n",
    "print(set(special_char) - set(string.ascii_letters) - set(string.digits))"
   ]
  },
  {
   "cell_type": "code",
   "execution_count": 13,
   "id": "b47f2939-fbd1-487e-bd4d-0fb015ff3484",
   "metadata": {},
   "outputs": [],
   "source": [
    "def cleaning(data):\n",
    "    for i in range(len(data)):\n",
    "        # 替换特殊字符\n",
    "        data[i] = data[i].replace('\\u200b', '')\n",
    "        data[i] = data[i].replace('\\u200f', '')\n",
    "        data[i] = data[i].replace('\\xad', '')\n",
    "        data[i] = data[i].replace('\\u3000', ' ')\n",
    "        eng_mark = [',', '.', '!', '?']  # 因为标点前加空格\n",
    "        for mark in eng_mark:\n",
    "            data[i] = data[i].replace(mark, ' '+mark)\n",
    "        data[i] = data[i].lower()  # 统一替换为小写\n",
    "    return data"
   ]
  },
  {
   "cell_type": "code",
   "execution_count": 34,
   "id": "055c32b7-7076-4df2-9ed8-9d39544d0617",
   "metadata": {},
   "outputs": [
    {
     "data": {
      "text/plain": [
       "['i have to go to sleep  .\\t我该去睡觉了。',\n",
       " \"today is june 18th and it is muiriel's birthday  !\\t今天是６月１８号，也是muiriel的生日！\",\n",
       " 'muiriel is 20 now  .\\tmuiriel现在20岁了。',\n",
       " 'the password is \"muiriel\"  .\\t密码是\"muiriel\"。',\n",
       " 'i will be back soon  .\\t我很快就會回來。']"
      ]
     },
     "execution_count": 34,
     "metadata": {},
     "output_type": "execute_result"
    }
   ],
   "source": [
    "cleaning(data)[:5]"
   ]
  },
  {
   "cell_type": "code",
   "execution_count": 15,
   "id": "398dc099-bb16-4baf-9837-b2135ce8d802",
   "metadata": {},
   "outputs": [
    {
     "name": "stdout",
     "output_type": "stream",
     "text": [
      "src: [['i', 'have', 'to', 'go', 'to', 'sleep', '.'], ['today', 'is', 'june', '18th', 'and', 'it', 'is', \"muiriel's\", 'birthday', '!'], ['muiriel', 'is', '20', 'now', '.'], ['the', 'password', 'is', '\"muiriel\"', '.'], ['i', 'will', 'be', 'back', 'soon', '.'], [\"i'm\", 'at', 'a', 'loss', 'for', 'words', '.']]\n",
      "tgt: [['我', '该', '去', '睡', '觉', '了', '。'], ['今', '天', '是', '６', '月', '１', '８', '号', '，', '也', '是', 'm', 'u', 'i', 'r', 'i', 'e', 'l', '的', '生', '日', '！'], ['m', 'u', 'i', 'r', 'i', 'e', 'l', '现', '在', '2', '0', '岁', '了', '。'], ['密', '码', '是', '\"', 'm', 'u', 'i', 'r', 'i', 'e', 'l', '\"', '。'], ['我', '很', '快', '就', '會', '回', '來', '。'], ['我', '不', '知', '道', '應', '該', '說', '什', '麼', '才', '好', '。']]\n"
     ]
    }
   ],
   "source": [
    "def tokenize(data):\n",
    "    # 分别存储源语言和目标语言的词元\n",
    "    src_tokens, tgt_tokens = [], []\n",
    "    for line in data:\n",
    "        pair = line.split('\\t')\n",
    "        src = pair[0].split(' ')\n",
    "        tgt = list(pair[1])\n",
    "        src_tokens.append(src)\n",
    "        tgt_tokens.append(tgt)\n",
    "    return src_tokens, tgt_tokens\n",
    "\n",
    "src_tokens, tgt_tokens = tokenize(data)\n",
    "print(\"src:\", src_tokens[:6])\n",
    "print(\"tgt:\", tgt_tokens[:6])"
   ]
  },
  {
   "cell_type": "code",
   "execution_count": 16,
   "id": "1a30f48e-38c3-4903-b935-a1963d77c315",
   "metadata": {},
   "outputs": [],
   "source": [
    "import numpy as np\n",
    "\n",
    "def statistics(tokens):\n",
    "    max_len = 80  # 只统计长度80以下的\n",
    "    len_list = range(max_len)  # 长度值\n",
    "    freq_list = np.zeros(max_len)  # 频率值\n",
    "    for token in tokens:\n",
    "        if len(token) < max_len:\n",
    "            freq_list[len_list.index(len(token))] += 1\n",
    "    return len_list, freq_list\n",
    "\n",
    "s1, s2 = statistics(src_tokens)\n",
    "t1, t2 = statistics(tgt_tokens)"
   ]
  },
  {
   "cell_type": "code",
   "execution_count": 17,
   "id": "55c7acec-cb33-4ec9-8ef9-57681140f6ab",
   "metadata": {},
   "outputs": [
    {
     "data": {
      "text/plain": [
       "[<matplotlib.lines.Line2D at 0x7f2a14a1f890>]"
      ]
     },
     "execution_count": 17,
     "metadata": {},
     "output_type": "execute_result"
    },
    {
     "data": {
      "image/png": "[encoded data removed]",
      "text/plain": [
       "<Figure size 640x480 with 1 Axes>"
      ]
     },
     "metadata": {},
     "output_type": "display_data"
    }
   ],
   "source": [
    "import matplotlib.pyplot as plt\n",
    "plt.plot(s1, s2)\n",
    "plt.plot(t1, t2)"
   ]
  },
  {
   "cell_type": "code",
   "execution_count": 20,
   "id": "06650b00-ba00-435e-86c8-2d4a18e28056",
   "metadata": {},
   "outputs": [],
   "source": [
    "from collections import Counter  #计数类\n",
    "\n",
    "flatten = lambda l: [item for sublist in l for item in sublist]  #展平数组\n",
    "\n",
    "# 构建词表\n",
    "class Vocab:\n",
    "    def __init__(self, tokens):\n",
    "        self.tokens = tokens  # 传入的tokens是二维列表\n",
    "        self.token2index = {'<bos>': 0, '<eos>': 1, '<unk>': 2, '<pad>': 3}  # 先存好特殊词元\n",
    "        # 将词元按词频排序后生成列表\n",
    "        self.token2index.update({\n",
    "            token: index + 4\n",
    "            for index, (token, freq) in enumerate(\n",
    "                sorted(Counter(flatten(self.tokens)).items(), key=lambda x: x[1], reverse=True)\n",
    "            )\n",
    "        })\n",
    "        #构建id到词元字典\n",
    "        self.index2token = {index: token for token, index in self.token2index.items()}\n",
    "\n",
    "    def __getitem__(self, query):\n",
    "        # 单一索引\n",
    "        if isinstance(query, (str, int)):\n",
    "            if isinstance(query, str):\n",
    "                return self.token2index.get(query, 0)\n",
    "            elif isinstance(query, (int)):\n",
    "                return self.index2token.get(query, '<unk>')\n",
    "        # 数组索引\n",
    "        elif isinstance(query, (list, tuple)):\n",
    "            return [self.__getitem__(item) for item in query]\n",
    "            \n",
    "    def __len__(self):\n",
    "        return len(self.index2token)"
   ]
  },
  {
   "cell_type": "code",
   "execution_count": 21,
   "id": "fad75163-0b56-4752-820d-f8c4a6457182",
   "metadata": {},
   "outputs": [],
   "source": [
    "from torch.utils.data import DataLoader, TensorDataset\n",
    "\n",
    "seq_len = 48  # 序列最大长度\n",
    "\n",
    "# 对数据按照最大长度进行截断和填充\n",
    "def padding(tokens, seq_len):\n",
    "    # 该函数对单个句子进行处理\n",
    "    # 传入的句子是词元形式\n",
    "    return tokens[:seq_len] if len(tokens) > seq_len else tokens + ['<pad>'] * (seq_len - len(tokens))\n",
    "\n",
    "#实例化source和target词表\n",
    "src_vocab, tgt_vocab = Vocab(src_tokens), Vocab(tgt_tokens)\n",
    "\n",
    "#增加结尾标识<eos>\n",
    "src_data = torch.tensor([src_vocab[padding(line + ['<eos>'], seq_len)] for line in src_tokens])\n",
    "tgt_data = torch.tensor([tgt_vocab[padding(line + ['<eos>'], seq_len)] for line in tgt_tokens])"
   ]
  },
  {
   "cell_type": "code",
   "execution_count": 36,
   "id": "771365b9-3fd6-43cd-8ba0-2dcaf6e978ed",
   "metadata": {},
   "outputs": [
    {
     "data": {
      "text/plain": [
       "(tensor([[   6,   21,    7,   47,    7,  347,    4,    1,    3,    3,    3,    3,\n",
       "             3,    3,    3,    3,    3,    3,    3,    3,    3,    3,    3,    3,\n",
       "             3,    3,    3,    3,    3,    3,    3,    3,    3,    3,    3,    3,\n",
       "             3,    3,    3,    3,    3,    3,    3,    3,    3,    3,    3,    3],\n",
       "         [ 124,   10, 1741, 5719,   28,   20,   10, 6804,  624,   43,    1,    3,\n",
       "             3,    3,    3,    3,    3,    3,    3,    3,    3,    3,    3,    3,\n",
       "             3,    3,    3,    3,    3,    3,    3,    3,    3,    3,    3,    3,\n",
       "             3,    3,    3,    3,    3,    3,    3,    3,    3,    3,    3,    3],\n",
       "         [4319,   10, 1443,   90,    4,    1,    3,    3,    3,    3,    3,    3,\n",
       "             3,    3,    3,    3,    3,    3,    3,    3,    3,    3,    3,    3,\n",
       "             3,    3,    3,    3,    3,    3,    3,    3,    3,    3,    3,    3,\n",
       "             3,    3,    3,    3,    3,    3,    3,    3,    3,    3,    3,    3]]),\n",
       " tensor([[   5,  194,   28,  237,  201,    7,    4,    1,    3,    3,    3,    3,\n",
       "             3,    3,    3,    3,    3,    3,    3,    3,    3,    3,    3,    3,\n",
       "             3,    3,    3,    3,    3,    3,    3,    3,    3,    3,    3,    3,\n",
       "             3,    3,    3,    3,    3,    3,    3,    3,    3,    3,    3,    3],\n",
       "         [ 108,   25,    9, 3593,  260, 3362, 3363,  868,   13,   94,    9,  281,\n",
       "           775,  380,  498,  380,  306,  652,    6,   43,  102,   68,    1,    3,\n",
       "             3,    3,    3,    3,    3,    3,    3,    3,    3,    3,    3,    3,\n",
       "             3,    3,    3,    3,    3,    3,    3,    3,    3,    3,    3,    3],\n",
       "         [ 281,  775,  380,  498,  380,  306,  652,  190,   15,  589,  241,  508,\n",
       "             7,    4,    1,    3,    3,    3,    3,    3,    3,    3,    3,    3,\n",
       "             3,    3,    3,    3,    3,    3,    3,    3,    3,    3,    3,    3,\n",
       "             3,    3,    3,    3,    3,    3,    3,    3,    3,    3,    3,    3]]))"
      ]
     },
     "execution_count": 36,
     "metadata": {},
     "output_type": "execute_result"
    }
   ],
   "source": [
    "src_data[:3],tgt_data[:3]"
   ]
  },
  {
   "cell_type": "code",
   "execution_count": 28,
   "id": "cff52841-3859-4ba9-be04-32213facd3f2",
   "metadata": {},
   "outputs": [],
   "source": [
    "# 训练集和测试集比例化8:2, batch_size = 16\n",
    "train_size = int(len(src_data) * 0.8)\n",
    "test_size = len(src_data) - train_size\n",
    "batch_size = 512\n",
    "train_loader = DataLoader(TensorDataset(src_data[:train_size], tgt_data[:train_size]), batch_size=batch_size)\n",
    "test_loader = DataLoader(TensorDataset(src_data[-test_size:], tgt_data[-test_size:]), batch_size=1)"
   ]
  },
  {
   "cell_type": "code",
   "execution_count": 29,
   "id": "7e1775e0-a27a-4318-8d16-a35a12f6abbb",
   "metadata": {},
   "outputs": [],
   "source": [
    "# 定义编码器\n",
    "class Encoder(nn.Module):\n",
    "    def __init__(self, vocab_size, ebd_size, hidden_size, num_layers):\n",
    "        super().__init__()\n",
    "        self.embedding = nn.Embedding(vocab_size, ebd_size, padding_idx=3)  # 将token表示为embedding\n",
    "        self.gru = nn.GRU(ebd_size, hidden_size, num_layers=num_layers)\n",
    "\n",
    "    def forward(self, encoder_inputs):\n",
    "        # encoder_inputs从(batch_size, seq_len)变成(batch_size, seq_len, emb_size)再调整为(seq_len, batch_size, emb_size)\n",
    "        encoder_inputs = self.embedding(encoder_inputs).permute(1, 0, 2)\n",
    "        output, hidden = self.gru(encoder_inputs)\n",
    "        # hidden 的形状为 (num_layers, batch_size, hidden_size)\n",
    "        # 最后时刻的最后一个隐层的输出的隐状态即为上下文向量\n",
    "        return hidden\n",
    "\n",
    "# 定义解码器\n",
    "class Decoder(nn.Module):\n",
    "    def __init__(self, vocab_size, ebd_size, hidden_size, num_layers):\n",
    "        super().__init__()\n",
    "        self.embedding = nn.Embedding(vocab_size, ebd_size, padding_idx=3)\n",
    "        # 拼接维度ebd_size + hidden_size\n",
    "        self.gru = nn.GRU(ebd_size + hidden_size, hidden_size, num_layers=num_layers)\n",
    "        self.linear = nn.Linear(hidden_size, vocab_size)\n",
    "    \n",
    "    def forward(self, decoder_inputs, encoder_states):\n",
    "        '''\n",
    "        decoder_inputs 为目标序列偏移一位的结果，由初始形状: (batch_size, seq_len)变为(batch_size, seq_len)\n",
    "        再调整为(batch_size, seq_len, emb_size) -> (seq_len, batch_size, emb_size)\n",
    "        '''\n",
    "        decoder_inputs = self.embedding(decoder_inputs).permute(1, 0, 2)\n",
    "        context = encoder_states[-1] # 上下文向量取编码器的最后一个隐层的输出\n",
    "        # context 初始形状为 (batch_size, hidden_size)，为下一步连接，需repeat为(seq_len, batch_size, hidden_size)\n",
    "        context = context.repeat(decoder_inputs.shape[0], 1, 1)\n",
    "        output, hidden = self.gru(torch.cat((decoder_inputs, context), -1), encoder_states)\n",
    "        # logits 的形状为 (seq_len, batch_size, vocab_size)\n",
    "        logits = self.linear(output)\n",
    "        return logits, hidden\n",
    "\n",
    "# seq2seq模型\n",
    "class Seq2Seq(nn.Module):\n",
    "    def __init__(self, encoder, decoder):\n",
    "        super().__init__()\n",
    "        self.encoder = encoder\n",
    "        self.decoder = decoder\n",
    "    \n",
    "    def forward(self, encoder_inputs, decoder_inputs):\n",
    "        return self.decoder(decoder_inputs, self.encoder(encoder_inputs))"
   ]
  },
  {
   "cell_type": "code",
   "execution_count": 32,
   "id": "6cbd30d4-4bbd-4f1e-89d0-dd11fb50f73d",
   "metadata": {},
   "outputs": [],
   "source": [
    "from tqdm import *\n",
    "import matplotlib.pyplot as plt\n",
    "\n",
    "# 设置是否使用GPU\n",
    "device = 'cuda' if torch.cuda.is_available() else 'cpu'\n",
    "\n",
    "# 设置超参数\n",
    "lr = 0.001\n",
    "num_epochs = 100\n",
    "hidden_size = 256\n",
    "\n",
    "# 建立模型\n",
    "encoder = Encoder(len(src_vocab), len(src_vocab), hidden_size, num_layers=2)\n",
    "decoder = Decoder(len(tgt_vocab), len(tgt_vocab), hidden_size, num_layers=2)\n",
    "model = Seq2Seq(encoder, decoder)\n",
    "model.to(device)\n",
    "\n",
    "# 交叉熵损失和adam优化器\n",
    "criterion = nn.CrossEntropyLoss(reduction='none', ignore_index=3)\n",
    "optimizer = torch.optim.Adam(model.parameters(), lr=lr)\n"
   ]
  },
  {
   "cell_type": "code",
   "execution_count": 33,
   "id": "59655685-2d10-4592-af20-040b339ad219",
   "metadata": {},
   "outputs": [
    {
     "name": "stderr",
     "output_type": "stream",
     "text": [
      "  1%|▌                                                         | 1/100 [00:11<18:32, 11.24s/it]"
     ]
    },
    {
     "name": "stdout",
     "output_type": "stream",
     "text": [
      "loss = 0.965741753578186\n"
     ]
    },
    {
     "name": "stderr",
     "output_type": "stream",
     "text": [
      "  6%|███▍                                                      | 6/100 [01:07<17:38, 11.26s/it]"
     ]
    },
    {
     "name": "stdout",
     "output_type": "stream",
     "text": [
      "loss = 0.5568394064903259\n"
     ]
    },
    {
     "name": "stderr",
     "output_type": "stream",
     "text": [
      " 11%|██████▎                                                  | 11/100 [02:04<16:43, 11.27s/it]"
     ]
    },
    {
     "name": "stdout",
     "output_type": "stream",
     "text": [
      "loss = 0.41161516308784485\n"
     ]
    },
    {
     "name": "stderr",
     "output_type": "stream",
     "text": [
      " 16%|█████████                                                | 16/100 [03:00<15:47, 11.28s/it]"
     ]
    },
    {
     "name": "stdout",
     "output_type": "stream",
     "text": [
      "loss = 0.328755259513855\n"
     ]
    },
    {
     "name": "stderr",
     "output_type": "stream",
     "text": [
      " 21%|███████████▉                                             | 21/100 [03:57<14:51, 11.29s/it]"
     ]
    },
    {
     "name": "stdout",
     "output_type": "stream",
     "text": [
      "loss = 0.2667121887207031\n"
     ]
    },
    {
     "name": "stderr",
     "output_type": "stream",
     "text": [
      " 26%|██████████████▊                                          | 26/100 [04:53<13:56, 11.30s/it]"
     ]
    },
    {
     "name": "stdout",
     "output_type": "stream",
     "text": [
      "loss = 0.2217564731836319\n"
     ]
    },
    {
     "name": "stderr",
     "output_type": "stream",
     "text": [
      " 31%|█████████████████▋                                       | 31/100 [05:50<13:01, 11.33s/it]"
     ]
    },
    {
     "name": "stdout",
     "output_type": "stream",
     "text": [
      "loss = 0.18787501752376556\n"
     ]
    },
    {
     "name": "stderr",
     "output_type": "stream",
     "text": [
      " 36%|████████████████████▌                                    | 36/100 [06:46<12:01, 11.27s/it]"
     ]
    },
    {
     "name": "stdout",
     "output_type": "stream",
     "text": [
      "loss = 0.1652941107749939\n"
     ]
    },
    {
     "name": "stderr",
     "output_type": "stream",
     "text": [
      " 41%|███████████████████████▎                                 | 41/100 [07:43<11:05, 11.29s/it]"
     ]
    },
    {
     "name": "stdout",
     "output_type": "stream",
     "text": [
      "loss = 0.15111447870731354\n"
     ]
    },
    {
     "name": "stderr",
     "output_type": "stream",
     "text": [
      " 46%|██████████████████████████▏                              | 46/100 [08:39<10:10, 11.30s/it]"
     ]
    },
    {
     "name": "stdout",
     "output_type": "stream",
     "text": [
      "loss = 0.13365893065929413\n"
     ]
    },
    {
     "name": "stderr",
     "output_type": "stream",
     "text": [
      " 51%|█████████████████████████████                            | 51/100 [09:35<09:12, 11.27s/it]"
     ]
    },
    {
     "name": "stdout",
     "output_type": "stream",
     "text": [
      "loss = 0.12206161022186279\n"
     ]
    },
    {
     "name": "stderr",
     "output_type": "stream",
     "text": [
      " 56%|███████████████████████████████▉                         | 56/100 [10:32<08:16, 11.28s/it]"
     ]
    },
    {
     "name": "stdout",
     "output_type": "stream",
     "text": [
      "loss = 0.11271842569112778\n"
     ]
    },
    {
     "name": "stderr",
     "output_type": "stream",
     "text": [
      " 61%|██████████████████████████████████▊                      | 61/100 [11:28<07:19, 11.28s/it]"
     ]
    },
    {
     "name": "stdout",
     "output_type": "stream",
     "text": [
      "loss = 0.10499294102191925\n"
     ]
    },
    {
     "name": "stderr",
     "output_type": "stream",
     "text": [
      " 66%|█████████████████████████████████████▌                   | 66/100 [12:25<06:23, 11.28s/it]"
     ]
    },
    {
     "name": "stdout",
     "output_type": "stream",
     "text": [
      "loss = 0.09498786926269531\n"
     ]
    },
    {
     "name": "stderr",
     "output_type": "stream",
     "text": [
      " 71%|████████████████████████████████████████▍                | 71/100 [13:21<05:27, 11.28s/it]"
     ]
    },
    {
     "name": "stdout",
     "output_type": "stream",
     "text": [
      "loss = 0.08591657876968384\n"
     ]
    },
    {
     "name": "stderr",
     "output_type": "stream",
     "text": [
      " 76%|███████████████████████████████████████████▎             | 76/100 [14:18<04:30, 11.28s/it]"
     ]
    },
    {
     "name": "stdout",
     "output_type": "stream",
     "text": [
      "loss = 0.08433974534273148\n"
     ]
    },
    {
     "name": "stderr",
     "output_type": "stream",
     "text": [
      " 81%|██████████████████████████████████████████████▏          | 81/100 [15:14<03:34, 11.28s/it]"
     ]
    },
    {
     "name": "stdout",
     "output_type": "stream",
     "text": [
      "loss = 0.08123445510864258\n"
     ]
    },
    {
     "name": "stderr",
     "output_type": "stream",
     "text": [
      " 86%|█████████████████████████████████████████████████        | 86/100 [16:11<02:38, 11.30s/it]"
     ]
    },
    {
     "name": "stdout",
     "output_type": "stream",
     "text": [
      "loss = 0.07892081141471863\n"
     ]
    },
    {
     "name": "stderr",
     "output_type": "stream",
     "text": [
      " 91%|███████████████████████████████████████████████████▊     | 91/100 [17:08<01:41, 11.33s/it]"
     ]
    },
    {
     "name": "stdout",
     "output_type": "stream",
     "text": [
      "loss = 0.07480420172214508\n"
     ]
    },
    {
     "name": "stderr",
     "output_type": "stream",
     "text": [
      " 96%|██████████████████████████████████████████████████████▋  | 96/100 [18:04<00:45, 11.33s/it]"
     ]
    },
    {
     "name": "stdout",
     "output_type": "stream",
     "text": [
      "loss = 0.07177222520112991\n"
     ]
    },
    {
     "name": "stderr",
     "output_type": "stream",
     "text": [
      "100%|████████████████████████████████████████████████████████| 100/100 [18:49<00:00, 11.30s/it]\n"
     ]
    }
   ],
   "source": [
    "# 记录损失变化\n",
    "loss_history = []\n",
    "\n",
    "# 记录损失变化\n",
    "loss_history = []\n",
    "\n",
    "#开始训练\n",
    "model.train()\n",
    "for epoch in tqdm(range(num_epochs)):\n",
    "    for encoder_inputs, decoder_targets in train_loader:\n",
    "        encoder_inputs, decoder_targets = encoder_inputs.to(device), decoder_targets.to(device)\n",
    "        # 偏移一位作为decoder的输入\n",
    "        # decoder的输入第一位是<bos>\n",
    "        # decoder_targets.shape[0]就是batch_size\n",
    "        bos_column = torch.tensor([tgt_vocab['<bos>']] * decoder_targets.shape[0]).reshape(-1, 1).to(device)\n",
    "        decoder_inputs = torch.cat((bos_column, decoder_targets[:, :-1]), dim=1)\n",
    "        # pred的形状为 (seq_len, batch_size, vocab_size)\n",
    "        pred, _ = model(encoder_inputs, decoder_inputs)\n",
    "        # decoder_targets 的形状为 (batch_size, seq_len), 我们需要改变pred的形状以保证它能被正确输入\n",
    "        # loss 的形状为 (batch_size, seq_len), 其中的每个元素都代表了一个词元的损失\n",
    "        # 交叉熵损失计算预测分布和实际分布之间的差异，L = -log(p_t)\n",
    "        loss = criterion(pred.permute(1, 2, 0), decoder_targets).mean()\n",
    "        # 反向传播\n",
    "        optimizer.zero_grad()\n",
    "        loss.backward()\n",
    "        optimizer.step()\n",
    "        loss_history.append(loss.item())\n",
    "    if epoch % 5 == 0:\n",
    "        print(f\"loss = {loss_history[-1]}\")"
   ]
  },
  {
   "cell_type": "code",
   "execution_count": 37,
   "id": "faf89954-c1b0-4878-b0bb-11aef5303f4f",
   "metadata": {},
   "outputs": [
    {
     "data": {
      "text/plain": [
       "Text(0, 0.5, 'train loss')"
      ]
     },
     "execution_count": 37,
     "metadata": {},
     "output_type": "execute_result"
    },
    {
     "data": {
      "image/png": "[encoded data removed]",
      "text/plain": [
       "<Figure size 640x480 with 1 Axes>"
      ]
     },
     "metadata": {},
     "output_type": "display_data"
    }
   ],
   "source": [
    "plt.plot(loss_history)\n",
    "plt.ylabel(\"train loss\")"
   ]
  },
  {
   "cell_type": "code",
   "execution_count": 38,
   "id": "86f297e7-0ba6-4157-934e-c5db46381b8b",
   "metadata": {},
   "outputs": [],
   "source": [
    "torch.save(model.state_dict(), 'eng2chinese.pt')"
   ]
  },
  {
   "cell_type": "code",
   "execution_count": 39,
   "id": "6aa3da8a-a67b-413c-8cd1-446aba4a6a7b",
   "metadata": {},
   "outputs": [],
   "source": [
    "import math\n",
    "# 计算bleu分数\n",
    "def bleu(label, pred, n):\n",
    "    score = math.exp(min(0, 1 - len(label) / len(pred)))\n",
    "    for k in range(1, n + 1):\n",
    "        num_matches = 0\n",
    "        hashtable = Counter([' '.join(label[i:i + k]) for i in range(len(label) - k + 1)])\n",
    "        for i in range(len(pred) - k + 1):\n",
    "            ngram = ' '.join(pred[i:i + k])\n",
    "            if ngram in hashtable and hashtable[ngram] > 0:\n",
    "                num_matches += 1\n",
    "                hashtable[ngram] -= 1\n",
    "        score *= pow(num_matches / (len(pred) - k + 1), pow(0.5, k))\n",
    "    return score"
   ]
  },
  {
   "cell_type": "code",
   "execution_count": 41,
   "id": "eaeb237d-66d2-4a83-ac3e-55d97a888ba2",
   "metadata": {},
   "outputs": [],
   "source": [
    "model.eval()\n",
    "translation_results = []\n",
    "bleu_scores = []\n",
    "# 因为batch_size是1，所以每次取出来的都是单个句子\n",
    "for src_seq, tgt_seq in test_loader:\n",
    "    encoder_inputs = src_seq\n",
    "    hidden = model.encoder(encoder_inputs.to(device))\n",
    "    pred_seq = [tgt_vocab['<bos>']]\n",
    "    for _ in range(8):\n",
    "        # 一步步输出，decoder的输入的形状为(batch_size, seq_len)=(1, 1)\n",
    "        decoder_inputs = torch.tensor(pred_seq[-1]).reshape(1, 1).to(device)\n",
    "        # pred形状为 (seq_len, batch_size, vocab_size) = (1, 1, vocab_size)\n",
    "        pred, hidden = model.decoder(decoder_inputs, hidden)\n",
    "        next_token_index = pred.squeeze().argmax().item()\n",
    "        if next_token_index == tgt_vocab['<eos>']:\n",
    "            break\n",
    "        pred_seq.append(next_token_index)\n",
    "\n",
    "    # 去掉开头的<bos>\n",
    "    pred_seq = tgt_vocab[pred_seq[1:]]\n",
    "    # 因为tgt_seq的形状为(1, seq_len)，我们需要将其转化成(seq_len,)的形状\n",
    "    tgt_seq = tgt_seq.squeeze().tolist()\n",
    "    \n",
    "    # 需要注意在<eos>之前截断\n",
    "    if tgt_vocab['<eos>'] in tgt_seq:\n",
    "        eos_idx = tgt_seq.index(tgt_vocab['<eos>'])\n",
    "        tgt_seq = tgt_vocab[tgt_seq[:eos_idx]]\n",
    "    else:\n",
    "        tgt_seq = tgt_vocab[tgt_seq]\n",
    "    translation_results.append((' '.join(tgt_seq), ' '.join(pred_seq)))\n",
    "    bleu_scores.append(bleu(tgt_seq, pred_seq, n=2))"
   ]
  },
  {
   "cell_type": "code",
   "execution_count": 42,
   "id": "726d5532-124d-46d0-a841-288d07ad358c",
   "metadata": {},
   "outputs": [
    {
     "name": "stdout",
     "output_type": "stream",
     "text": [
      "0.1458992241572457\n"
     ]
    }
   ],
   "source": [
    "print(sum(bleu_scores) / test_size)"
   ]
  },
  {
   "cell_type": "code",
   "execution_count": 45,
   "id": "62d3481b-157e-4e5b-9514-4e399fe48f3b",
   "metadata": {},
   "outputs": [
    {
     "data": {
      "text/plain": [
       "[('我 想 在 买 之 前 先 试 试 这 个 新 机 型 。', '我 想 要 呼 吸 這 筆 賣'),\n",
       " ('汤 姆 希 望 玛 丽 不 会 跟 约 翰 谈 恋 爱 。', '汤 姆 不 喜 欢 做 法 是'),\n",
       " ('我 想 给 我 朋 友 选 个 礼 物 。', '我 想 一 想 看 我 有 十'),\n",
       " ('在 第 一 个 信 号 灯 处 右 转 。', '在 慢 地 下 五 点 左 右'),\n",
       " ('我 们 上 周 去 了 海 滩 。', '我 们 一 周 日 要 做 人'),\n",
       " ('汤 姆 经 常 在 课 堂 上 睡 着 。', '汤 姆 经 常 在 家 里 吗'),\n",
       " ('你 们 在 巴 黎 看 到 了 什 么 ？', '你 在 哪 里 找 到 车 子'),\n",
       " ('你 什 么 时 候 试 着 抱 过 汤 姆 ？', '你 什 麼 時 候 要 結 束'),\n",
       " ('有 什 么 你 想 让 我 买 的 吗 ？', '有 什 么 卡 车 会 可 以'),\n",
       " ('他 写 得 很 匆 忙 。', '他 用 淺 顯 的 文 件 夹')]"
      ]
     },
     "execution_count": 45,
     "metadata": {},
     "output_type": "execute_result"
    }
   ],
   "source": [
    "translation_results[:10]"
   ]
  }
 ],
 "metadata": {
  "kernelspec": {
   "display_name": "Python 3 (ipykernel)",
   "language": "python",
   "name": "python3"
  },
  "language_info": {
   "codemirror_mode": {
    "name": "ipython",
    "version": 3
   },
   "file_extension": ".py",
   "mimetype": "text/x-python",
   "name": "python",
   "nbconvert_exporter": "python",
   "pygments_lexer": "ipython3",
   "version": "3.12.4"
  }
 },
 "nbformat": 4,
 "nbformat_minor": 5
}
