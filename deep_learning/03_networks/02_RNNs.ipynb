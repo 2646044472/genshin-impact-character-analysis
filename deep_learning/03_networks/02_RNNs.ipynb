{
 "cells": [
  {
   "cell_type": "code",
   "execution_count": 1,
   "id": "d6ae8f9d-0fbb-42af-acb2-bf3f3bc4bfc2",
   "metadata": {},
   "outputs": [
    {
     "name": "stdout",
     "output_type": "stream",
     "text": [
      "rnn.weight_ih_l0 : torch.Size([64, 16])\n",
      "rnn.weight_hh_l0 : torch.Size([64, 64])\n",
      "rnn.bias_ih_l0 : torch.Size([64])\n",
      "rnn.bias_hh_l0 : torch.Size([64])\n",
      "rnn.weight_ih_l1 : torch.Size([64, 64])\n",
      "rnn.weight_hh_l1 : torch.Size([64, 64])\n",
      "rnn.bias_ih_l1 : torch.Size([64])\n",
      "rnn.bias_hh_l1 : torch.Size([64])\n",
      "linear.weight : torch.Size([16, 64])\n",
      "linear.bias : torch.Size([16])\n"
     ]
    }
   ],
   "source": [
    "from torch import nn\n",
    "from tqdm import *\n",
    "\n",
    "class DRNN(nn.Module):\n",
    "    def __init__(self, input_size, output_size, hidden_size, num_layers):\n",
    "        super(DRNN, self).__init__()\n",
    "        self.hidden_size = hidden_size\n",
    "        self.num_layers = num_layers\n",
    "        # 这里把tanh换成了relu解决梯度爆炸\n",
    "        self.rnn = nn.RNN(input_size, hidden_size, num_layers, batch_first=True, nonlinearity='relu')\n",
    "        # batch_first 为 True时output的tensor形状为 (batch, seq, feature)，否则为 (seq, batch, feature)\n",
    "        self.linear = nn.Linear(hidden_size, output_size)\n",
    "    \n",
    "    def forward(self, x):\n",
    "        # 初始化隐藏状态和细胞状态\n",
    "        state = torch.zeros(self.num_layers, x.size(0), self.hidden_size)\n",
    "        # 计算输出和最终隐藏状态\n",
    "        output, _ = self.rnn(x, state)\n",
    "        output = self.linear(output)\n",
    "        return output\n",
    "\n",
    "# 网络结构\n",
    "model = DRNN(16, 16, 64, 2)\n",
    "for name, parameters in model.named_parameters():\n",
    "    print(name, ':', parameters.size())"
   ]
  },
  {
   "cell_type": "code",
   "execution_count": 2,
   "id": "ea8a74ab-3139-436f-826f-116feeed7cf8",
   "metadata": {},
   "outputs": [
    {
     "name": "stdout",
     "output_type": "stream",
     "text": [
      "rnn.weight_ih_l0 : torch.Size([64, 16])\n",
      "rnn.weight_hh_l0 : torch.Size([64, 64])\n",
      "rnn.bias_ih_l0 : torch.Size([64])\n",
      "rnn.bias_hh_l0 : torch.Size([64])\n",
      "rnn.weight_ih_l0_reverse : torch.Size([64, 16])\n",
      "rnn.weight_hh_l0_reverse : torch.Size([64, 64])\n",
      "rnn.bias_ih_l0_reverse : torch.Size([64])\n",
      "rnn.bias_hh_l0_reverse : torch.Size([64])\n",
      "rnn.weight_ih_l1 : torch.Size([64, 128])\n",
      "rnn.weight_hh_l1 : torch.Size([64, 64])\n",
      "rnn.bias_ih_l1 : torch.Size([64])\n",
      "rnn.bias_hh_l1 : torch.Size([64])\n",
      "rnn.weight_ih_l1_reverse : torch.Size([64, 128])\n",
      "rnn.weight_hh_l1_reverse : torch.Size([64, 64])\n",
      "rnn.bias_ih_l1_reverse : torch.Size([64])\n",
      "rnn.bias_hh_l1_reverse : torch.Size([64])\n",
      "linear.weight : torch.Size([16, 128])\n",
      "linear.bias : torch.Size([16])\n"
     ]
    }
   ],
   "source": [
    "class BRNN(nn.Module):\n",
    "    def __init__(self, input_size, output_size, hidden_size, num_layers):\n",
    "        super(BRNN, self).__init__()\n",
    "        self.hidden_size = hidden_size\n",
    "        self.num_layers = num_layers\n",
    "        self.rnn = nn.RNN(input_size, hidden_size, num_layers, batch_first=True, bidirectional=True)  # bidirectional为True表示双向\n",
    "        self.linear = nn.Linear(hidden_size * 2, output_size)  # 双向网络，隐藏状态是hidden_size的两倍\n",
    "    \n",
    "    def forward(self, x):\n",
    "        # 初始化隐藏状态\n",
    "        state = torch.zeros(self.num_layers * 2, x.size(0), self.hidden_size)  # 需要双向的隐藏状态\n",
    "        output, _ = self.rnn(x, state)\n",
    "        output = self.linear(output)\n",
    "        return output\n",
    "\n",
    "# 网络结构\n",
    "model = BRNN(16, 16, 64, 2)\n",
    "for name, parameters in model.named_parameters():\n",
    "    print(name, ':', parameters.size())"
   ]
  },
  {
   "cell_type": "code",
   "execution_count": 3,
   "id": "0faf3a4c-bf54-44a8-9612-051ac529ac11",
   "metadata": {},
   "outputs": [
    {
     "name": "stdout",
     "output_type": "stream",
     "text": [
      "lstm.weight_ih_l0 : torch.Size([256, 16])\n",
      "lstm.weight_hh_l0 : torch.Size([256, 64])\n",
      "lstm.bias_ih_l0 : torch.Size([256])\n",
      "lstm.bias_hh_l0 : torch.Size([256])\n",
      "lstm.weight_ih_l1 : torch.Size([256, 64])\n",
      "lstm.weight_hh_l1 : torch.Size([256, 64])\n",
      "lstm.bias_ih_l1 : torch.Size([256])\n",
      "lstm.bias_hh_l1 : torch.Size([256])\n",
      "linear.weight : torch.Size([16, 64])\n",
      "linear.bias : torch.Size([16])\n"
     ]
    }
   ],
   "source": [
    "class LSTM(nn.Module):\n",
    "    def __init__(self, input_size, output_size, hidden_size, num_layers):\n",
    "        super(LSTM, self).__init__()\n",
    "        self.hidden_size = hidden_size\n",
    "        self.num_layers = num_layers\n",
    "        self.lstm = nn.LSTM(input_size, hidden_size, num_layers, batch_first=True)  # LSTM\n",
    "        self.linear = nn.Linear(hidden_size, output_size)\n",
    "    \n",
    "    def forward(self, x):\n",
    "        output, _ = self.lstm(x)\n",
    "        output = self.linear(output)\n",
    "        return output\n",
    "\n",
    "# Network structure\n",
    "model = LSTM(16, 16, 64, 2)\n",
    "for name, parameters in model.named_parameters():\n",
    "    print(name, ':', parameters.size())"
   ]
  },
  {
   "cell_type": "code",
   "execution_count": 4,
   "id": "449b6240-f564-4503-8ab7-e6c042216852",
   "metadata": {},
   "outputs": [
    {
     "name": "stdout",
     "output_type": "stream",
     "text": [
      "gru.weight_ih_l0 : torch.Size([192, 16])\n",
      "gru.weight_hh_l0 : torch.Size([192, 64])\n",
      "gru.bias_ih_l0 : torch.Size([192])\n",
      "gru.bias_hh_l0 : torch.Size([192])\n",
      "gru.weight_ih_l1 : torch.Size([192, 64])\n",
      "gru.weight_hh_l1 : torch.Size([192, 64])\n",
      "gru.bias_ih_l1 : torch.Size([192])\n",
      "gru.bias_hh_l1 : torch.Size([192])\n",
      "linear.weight : torch.Size([16, 64])\n",
      "linear.bias : torch.Size([16])\n"
     ]
    }
   ],
   "source": [
    "class GRU(nn.Module):\n",
    "    def __init__(self, input_size, output_size, hidden_size, num_layers):\n",
    "        super(GRU, self).__init__()\n",
    "        self.hidden_size = hidden_size\n",
    "        self.num_layers = num_layers\n",
    "        self.gru = nn.GRU(input_size, hidden_size, num_layers, batch_first=True)  # GRU\n",
    "        self.linear = nn.Linear(hidden_size, output_size)\n",
    "    \n",
    "    def forward(self, x):\n",
    "        output, _ = self.gru(x)\n",
    "        output = self.linear(output)\n",
    "        return output\n",
    "\n",
    "# Network structure\n",
    "model = GRU(16, 16, 64, 2)\n",
    "for name, parameters in model.named_parameters():\n",
    "    print(name, ':', parameters.size())"
   ]
  },
  {
   "cell_type": "code",
   "execution_count": 5,
   "id": "9898aeff-ef62-48c3-9759-f8d2fdbdf9f0",
   "metadata": {},
   "outputs": [
    {
     "data": {
      "text/html": [
       "<div>\n",
       "<style scoped>\n",
       "    .dataframe tbody tr th:only-of-type {\n",
       "        vertical-align: middle;\n",
       "    }\n",
       "\n",
       "    .dataframe tbody tr th {\n",
       "        vertical-align: top;\n",
       "    }\n",
       "\n",
       "    .dataframe thead th {\n",
       "        text-align: right;\n",
       "    }\n",
       "</style>\n",
       "<table border=\"1\" class=\"dataframe\">\n",
       "  <thead>\n",
       "    <tr style=\"text-align: right;\">\n",
       "      <th></th>\n",
       "      <th>Open</th>\n",
       "      <th>High</th>\n",
       "      <th>Low</th>\n",
       "      <th>Close</th>\n",
       "      <th>Volume</th>\n",
       "    </tr>\n",
       "    <tr>\n",
       "      <th>Date</th>\n",
       "      <th></th>\n",
       "      <th></th>\n",
       "      <th></th>\n",
       "      <th></th>\n",
       "      <th></th>\n",
       "    </tr>\n",
       "  </thead>\n",
       "  <tbody>\n",
       "    <tr>\n",
       "      <th>2024-07-25</th>\n",
       "      <td>39828.63</td>\n",
       "      <td>40438.82</td>\n",
       "      <td>39817.50</td>\n",
       "      <td>39935.07</td>\n",
       "      <td>355148964.0</td>\n",
       "    </tr>\n",
       "    <tr>\n",
       "      <th>2024-07-24</th>\n",
       "      <td>40210.63</td>\n",
       "      <td>40258.44</td>\n",
       "      <td>39807.45</td>\n",
       "      <td>39853.87</td>\n",
       "      <td>373377803.0</td>\n",
       "    </tr>\n",
       "    <tr>\n",
       "      <th>2024-07-23</th>\n",
       "      <td>40443.73</td>\n",
       "      <td>40527.89</td>\n",
       "      <td>40319.70</td>\n",
       "      <td>40358.09</td>\n",
       "      <td>266176561.0</td>\n",
       "    </tr>\n",
       "    <tr>\n",
       "      <th>2024-07-22</th>\n",
       "      <td>40414.49</td>\n",
       "      <td>40472.53</td>\n",
       "      <td>40222.77</td>\n",
       "      <td>40415.44</td>\n",
       "      <td>345101378.0</td>\n",
       "    </tr>\n",
       "    <tr>\n",
       "      <th>2024-07-19</th>\n",
       "      <td>40592.35</td>\n",
       "      <td>40626.16</td>\n",
       "      <td>40203.27</td>\n",
       "      <td>40287.53</td>\n",
       "      <td>393903303.0</td>\n",
       "    </tr>\n",
       "    <tr>\n",
       "      <th>...</th>\n",
       "      <td>...</td>\n",
       "      <td>...</td>\n",
       "      <td>...</td>\n",
       "      <td>...</td>\n",
       "      <td>...</td>\n",
       "    </tr>\n",
       "    <tr>\n",
       "      <th>2019-08-02</th>\n",
       "      <td>26528.66</td>\n",
       "      <td>26570.02</td>\n",
       "      <td>26249.22</td>\n",
       "      <td>26485.01</td>\n",
       "      <td>327541678.0</td>\n",
       "    </tr>\n",
       "    <tr>\n",
       "      <th>2019-08-01</th>\n",
       "      <td>26879.86</td>\n",
       "      <td>27175.59</td>\n",
       "      <td>26548.71</td>\n",
       "      <td>26583.42</td>\n",
       "      <td>386261964.0</td>\n",
       "    </tr>\n",
       "    <tr>\n",
       "      <th>2019-07-31</th>\n",
       "      <td>27244.67</td>\n",
       "      <td>27281.65</td>\n",
       "      <td>26719.60</td>\n",
       "      <td>26864.27</td>\n",
       "      <td>385238760.0</td>\n",
       "    </tr>\n",
       "    <tr>\n",
       "      <th>2019-07-30</th>\n",
       "      <td>27145.39</td>\n",
       "      <td>27224.36</td>\n",
       "      <td>27069.86</td>\n",
       "      <td>27198.02</td>\n",
       "      <td>293234078.0</td>\n",
       "    </tr>\n",
       "    <tr>\n",
       "      <th>2019-07-29</th>\n",
       "      <td>27192.24</td>\n",
       "      <td>27275.85</td>\n",
       "      <td>27178.06</td>\n",
       "      <td>27221.35</td>\n",
       "      <td>250890937.0</td>\n",
       "    </tr>\n",
       "  </tbody>\n",
       "</table>\n",
       "<p>1257 rows × 5 columns</p>\n",
       "</div>"
      ],
      "text/plain": [
       "                Open      High       Low     Close       Volume\n",
       "Date                                                           \n",
       "2024-07-25  39828.63  40438.82  39817.50  39935.07  355148964.0\n",
       "2024-07-24  40210.63  40258.44  39807.45  39853.87  373377803.0\n",
       "2024-07-23  40443.73  40527.89  40319.70  40358.09  266176561.0\n",
       "2024-07-22  40414.49  40472.53  40222.77  40415.44  345101378.0\n",
       "2024-07-19  40592.35  40626.16  40203.27  40287.53  393903303.0\n",
       "...              ...       ...       ...       ...          ...\n",
       "2019-08-02  26528.66  26570.02  26249.22  26485.01  327541678.0\n",
       "2019-08-01  26879.86  27175.59  26548.71  26583.42  386261964.0\n",
       "2019-07-31  27244.67  27281.65  26719.60  26864.27  385238760.0\n",
       "2019-07-30  27145.39  27224.36  27069.86  27198.02  293234078.0\n",
       "2019-07-29  27192.24  27275.85  27178.06  27221.35  250890937.0\n",
       "\n",
       "[1257 rows x 5 columns]"
      ]
     },
     "execution_count": 5,
     "metadata": {},
     "output_type": "execute_result"
    }
   ],
   "source": [
    "import pandas_datareader as pdr\n",
    "dji = pdr.DataReader(\"^DJI\", \"stooq\")\n",
    "dji"
   ]
  },
  {
   "cell_type": "code",
   "execution_count": 13,
   "id": "3b784e4a-d709-40de-9bcf-54052aeb39e9",
   "metadata": {},
   "outputs": [],
   "source": [
    "import torch\n",
    "from torch.utils.data import DataLoader, TensorDataset\n",
    "\n",
    "num = len(dji)  # 总数据量\n",
    "x = torch.tensor(dji['Close'].to_list())  # 股价列表\n",
    "x = (x - torch.mean(x)) / torch.std(x)\n",
    "\n",
    "\n",
    "seq_len = 16  # 预测序列长度\n",
    "batch_size = 16  # 设置批大小\n",
    "\n",
    "X_feature = torch.zeros((num - seq_len, seq_len))  # 构建特征矩阵，num-seq_len行，seq_len列\n",
    "Y_label = torch.zeros((num - seq_len, seq_len))  # 构建标签矩阵，形状同特征矩阵\n",
    "for i in range(seq_len):\n",
    "    X_feature[:, i] = x[i: num - seq_len + i]  # 为特征矩阵赋值\n",
    "    Y_label[:, i] = x[i+1: num - seq_len + i + 1]  # 为标签矩阵赋值\n",
    "\n",
    "train_loader = DataLoader(TensorDataset(\n",
    "    X_feature[:num-seq_len].unsqueeze(2), Y_label[:num-seq_len]),\n",
    "    batch_size=batch_size, shuffle=True)  # 构建数据加载器"
   ]
  },
  {
   "cell_type": "code",
   "execution_count": 20,
   "id": "75ab7377-5c2a-4810-90a7-b5f1bf897f81",
   "metadata": {},
   "outputs": [],
   "source": [
    "input_size = 1\n",
    "output_size = 1\n",
    "num_hiddens = 64\n",
    "n_layers = 2\n",
    "lr = 0.01"
   ]
  },
  {
   "cell_type": "code",
   "execution_count": 21,
   "id": "6d672f59-44e0-484c-9f39-a7fea3c1a354",
   "metadata": {},
   "outputs": [],
   "source": [
    "model = DRNN(input_size, output_size, num_hiddens, n_layers)\n",
    "criterion = nn.MSELoss(reduction='none')\n",
    "trainer = torch.optim.Adam(model.parameters(), lr)"
   ]
  },
  {
   "cell_type": "code",
   "execution_count": 22,
   "id": "641d242a-a04a-4d55-838e-14faca1c4a99",
   "metadata": {},
   "outputs": [],
   "source": [
    "torch.cuda.set_device(1) "
   ]
  },
  {
   "cell_type": "code",
   "execution_count": 23,
   "id": "7b1443bc-804b-46af-8dd8-04e1bbc7ce90",
   "metadata": {},
   "outputs": [
    {
     "name": "stderr",
     "output_type": "stream",
     "text": [
      "  1%|█                                                                                                               | 1/100 [00:00<01:15,  1.30it/s]"
     ]
    },
    {
     "name": "stdout",
     "output_type": "stream",
     "text": [
      "Epoch 0: Validation loss = 0.0116\n"
     ]
    },
    {
     "name": "stderr",
     "output_type": "stream",
     "text": [
      " 11%|████████████▏                                                                                                  | 11/100 [00:07<00:59,  1.50it/s]"
     ]
    },
    {
     "name": "stdout",
     "output_type": "stream",
     "text": [
      "Epoch 10: Validation loss = 0.0084\n"
     ]
    },
    {
     "name": "stderr",
     "output_type": "stream",
     "text": [
      " 21%|███████████████████████▎                                                                                       | 21/100 [00:13<00:47,  1.65it/s]"
     ]
    },
    {
     "name": "stdout",
     "output_type": "stream",
     "text": [
      "Epoch 20: Validation loss = 0.0083\n"
     ]
    },
    {
     "name": "stderr",
     "output_type": "stream",
     "text": [
      " 31%|██████████████████████████████████▍                                                                            | 31/100 [00:19<00:41,  1.68it/s]"
     ]
    },
    {
     "name": "stdout",
     "output_type": "stream",
     "text": [
      "Epoch 30: Validation loss = 0.0072\n"
     ]
    },
    {
     "name": "stderr",
     "output_type": "stream",
     "text": [
      " 41%|█████████████████████████████████████████████▌                                                                 | 41/100 [00:25<00:36,  1.60it/s]"
     ]
    },
    {
     "name": "stdout",
     "output_type": "stream",
     "text": [
      "Epoch 40: Validation loss = 0.0062\n"
     ]
    },
    {
     "name": "stderr",
     "output_type": "stream",
     "text": [
      " 51%|████████████████████████████████████████████████████████▌                                                      | 51/100 [00:32<00:31,  1.57it/s]"
     ]
    },
    {
     "name": "stdout",
     "output_type": "stream",
     "text": [
      "Epoch 50: Validation loss = 0.0091\n"
     ]
    },
    {
     "name": "stderr",
     "output_type": "stream",
     "text": [
      " 61%|███████████████████████████████████████████████████████████████████▋                                           | 61/100 [00:38<00:25,  1.52it/s]"
     ]
    },
    {
     "name": "stdout",
     "output_type": "stream",
     "text": [
      "Epoch 60: Validation loss = 0.0067\n"
     ]
    },
    {
     "name": "stderr",
     "output_type": "stream",
     "text": [
      " 71%|██████████████████████████████████████████████████████████████████████████████▊                                | 71/100 [00:44<00:18,  1.56it/s]"
     ]
    },
    {
     "name": "stdout",
     "output_type": "stream",
     "text": [
      "Epoch 70: Validation loss = 0.0058\n"
     ]
    },
    {
     "name": "stderr",
     "output_type": "stream",
     "text": [
      " 81%|█████████████████████████████████████████████████████████████████████████████████████████▉                     | 81/100 [00:50<00:11,  1.69it/s]"
     ]
    },
    {
     "name": "stdout",
     "output_type": "stream",
     "text": [
      "Epoch 80: Validation loss = 0.0059\n"
     ]
    },
    {
     "name": "stderr",
     "output_type": "stream",
     "text": [
      " 91%|█████████████████████████████████████████████████████████████████████████████████████████████████████          | 91/100 [00:56<00:05,  1.65it/s]"
     ]
    },
    {
     "name": "stdout",
     "output_type": "stream",
     "text": [
      "Epoch 90: Validation loss = 0.0060\n"
     ]
    },
    {
     "name": "stderr",
     "output_type": "stream",
     "text": [
      "100%|██████████████████████████████████████████████████████████████████████████████████████████████████████████████| 100/100 [01:02<00:00,  1.61it/s]\n"
     ]
    },
    {
     "data": {
      "image/png": "[encoded data removed]",
      "text/plain": [
       "<Figure size 640x480 with 1 Axes>"
      ]
     },
     "metadata": {},
     "output_type": "display_data"
    }
   ],
   "source": [
    "# 训练过程\n",
    "num_epochs = 100\n",
    "rnn_loss_history = []\n",
    "\n",
    "for epoch in tqdm(range(num_epochs)):\n",
    "    # 批量训练\n",
    "    for X, Y in train_loader:\n",
    "        trainer.zero_grad()\n",
    "        y_pred = model(X)\n",
    "        loss = criterion(y_pred.squeeze(), Y.squeeze())\n",
    "        loss.sum().backward()\n",
    "        trainer.step()\n",
    "    \n",
    "    # 输出损失\n",
    "    model.eval()\n",
    "    with torch.no_grad():\n",
    "        total_loss = 0\n",
    "        for X, Y in train_loader:\n",
    "            y_pred = model(X)\n",
    "            loss = criterion(y_pred.squeeze(), Y.squeeze())\n",
    "            total_loss += loss.sum()/loss.numel()\n",
    "        avg_loss = total_loss / len(train_loader)\n",
    "        \n",
    "    if epoch % 10 == 0:\n",
    "        print(f'Epoch {epoch}: Validation loss = {avg_loss:.4f}')\n",
    "    rnn_loss_history.append(avg_loss)\n",
    "\n",
    "# 绘制损失曲线图\n",
    "import matplotlib.pyplot as plt\n",
    "plt.plot(rnn_loss_history, label='RNN_loss')\n",
    "plt.legend()\n",
    "plt.show()"
   ]
  },
  {
   "cell_type": "code",
   "execution_count": 15,
   "id": "d0461a74-0e97-491c-8d33-cbb700ce1e48",
   "metadata": {},
   "outputs": [
    {
     "data": {
      "text/plain": [
       "(1241, 1241)"
      ]
     },
     "execution_count": 15,
     "metadata": {},
     "output_type": "execute_result"
    }
   ],
   "source": [
    "len(dji['Close'].to_list()[seq_len:num]),len(rnn_preds[:, seq_len-1].detach())"
   ]
  },
  {
   "cell_type": "code",
   "execution_count": 18,
   "id": "dafbf37b-105d-4e5c-9994-24d4622943ed",
   "metadata": {},
   "outputs": [
    {
     "data": {
      "text/plain": [
       "16"
      ]
     },
     "execution_count": 18,
     "metadata": {},
     "output_type": "execute_result"
    }
   ],
   "source": [
    "len(time[num-seq_len:])"
   ]
  },
  {
   "cell_type": "code",
   "execution_count": 20,
   "id": "5cecb828-df4c-4302-b65c-11ceedabff74",
   "metadata": {},
   "outputs": [
    {
     "data": {
      "text/plain": [
       "1257"
      ]
     },
     "execution_count": 20,
     "metadata": {},
     "output_type": "execute_result"
    }
   ],
   "source": [
    "num"
   ]
  },
  {
   "cell_type": "code",
   "execution_count": 26,
   "id": "6b8fd3b5-8a28-4c89-921f-c578e6941e52",
   "metadata": {},
   "outputs": [
    {
     "data": {
      "image/png": "[encoded data removed]",
      "text/plain": [
       "<Figure size 640x480 with 1 Axes>"
      ]
     },
     "metadata": {},
     "output_type": "display_data"
    }
   ],
   "source": [
    "rnn_preds = model(X_feature.unsqueeze(2))\n",
    "rnn_preds.squeeze_()\n",
    "time = torch.arange(1, num+1, dtype=torch.float32)  # 时间轴\n",
    "\n",
    "plt.plot(time[:num-seq_len], x[seq_len:num], label='x')\n",
    "plt.plot(time[:num-seq_len], rnn_preds[:, seq_len-1].detach(), label='RNN_preds')\n",
    "plt.legend()\n",
    "plt.show()"
   ]
  },
  {
   "cell_type": "code",
   "execution_count": 32,
   "id": "445a76e8-df58-47d4-8354-723ace8f0fb0",
   "metadata": {},
   "outputs": [
    {
     "name": "stderr",
     "output_type": "stream",
     "text": [
      "100%|████████████████████████████████████████████████████████████████████████████████████████████████████████████████| 50/50 [01:49<00:00,  2.19s/it]\n"
     ]
    }
   ],
   "source": [
    "# 设置超参数\n",
    "input_size = 1\n",
    "output_size = 1\n",
    "num_hiddens = 64\n",
    "n_layers = 2\n",
    "lr = 0.001\n",
    "\n",
    "# 建立模型\n",
    "model_name = ['DRNN', 'BRNN', 'LSTM', 'GRU']\n",
    "drnn = DRNN(input_size, output_size, num_hiddens, n_layers)\n",
    "brnn = BRNN(input_size, output_size, num_hiddens, n_layers)\n",
    "lstm = LSTM(input_size, output_size, num_hiddens, n_layers)\n",
    "gru = GRU(input_size, output_size, num_hiddens, n_layers)\n",
    "models = [drnn, brnn, lstm, gru]\n",
    "\n",
    "opts = [torch.optim.Adam(drnn.parameters(), lr),\n",
    "        torch.optim.Adam(brnn.parameters(), lr),\n",
    "        torch.optim.Adam(lstm.parameters(), lr),\n",
    "        torch.optim.Adam(gru.parameters(), lr)]\n",
    "criterion = nn.MSELoss(reduction='none')\n",
    "\n",
    "num_epochs = 50\n",
    "rnn_loss_history = []\n",
    "\n",
    "for epoch in tqdm(range(num_epochs)):\n",
    "    # 批量训练\n",
    "    for X, Y in train_loader:\n",
    "        for index, model, optimizer in zip(range(len(models)), models, opts):\n",
    "            y_pred = model(X)\n",
    "            loss = criterion(y_pred.squeeze(), Y.squeeze())\n",
    "            trainer.zero_grad()\n",
    "            loss.sum().backward()\n",
    "            trainer.step()"
   ]
  },
  {
   "cell_type": "code",
   "execution_count": 33,
   "id": "78e72714-d78f-43d6-b9ad-2b6ea4387c1e",
   "metadata": {},
   "outputs": [
    {
     "name": "stdout",
     "output_type": "stream",
     "text": [
      "DRNN MAE : 0.8340\n",
      "BRNN MAE : 0.8436\n",
      "LSTM MAE : 0.8136\n",
      "GRU MAE : 0.7767\n"
     ]
    }
   ],
   "source": [
    "for i in range(4):\n",
    "    rnn_preds = models[i](X_feature.unsqueeze(2))\n",
    "    rnn_preds = rnn_preds.squeeze().detach()\n",
    "    actual = x[seq_len:num]\n",
    "    mae = torch.mean(torch.abs(actual - rnn_preds[:, seq_len-1]))\n",
    "    print(f'{model_name[i]} MAE : {mae:.4f}')"
   ]
  }
 ],
 "metadata": {
  "kernelspec": {
   "display_name": "Python 3 (ipykernel)",
   "language": "python",
   "name": "python3"
  },
  "language_info": {
   "codemirror_mode": {
    "name": "ipython",
    "version": 3
   },
   "file_extension": ".py",
   "mimetype": "text/x-python",
   "name": "python",
   "nbconvert_exporter": "python",
   "pygments_lexer": "ipython3",
   "version": "3.12.4"
  }
 },
 "nbformat": 4,
 "nbformat_minor": 5
}
