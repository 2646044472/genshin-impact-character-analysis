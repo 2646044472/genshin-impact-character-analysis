{
 "cells": [
  {
   "cell_type": "code",
   "execution_count": 1,
   "id": "c91bb3d4-d545-463d-856e-73f4d84228fe",
   "metadata": {},
   "outputs": [],
   "source": [
    "import torch\n",
    "import torch.nn as nn\n",
    "import torch.utils.data as Data\n",
    "from torch import optim\n",
    "import numpy as np\n",
    "from tqdm import *\n",
    "import matplotlib.pyplot as plt\n",
    "import re\n",
    "import string\n",
    "from collections import Counter  # 计数类"
   ]
  },
  {
   "cell_type": "markdown",
   "id": "6921744b-8165-4dc9-aee5-3df413ef0dd2",
   "metadata": {},
   "source": [
    "https://github.com/zll17/Neural_Topic_Models/blob/master/data/zhdd_lines.txt"
   ]
  },
  {
   "cell_type": "code",
   "execution_count": 2,
   "id": "db7be840-b9d5-43a3-a725-f48c2518db2e",
   "metadata": {},
   "outputs": [
    {
     "data": {
      "text/plain": [
       "['喂，吉姆，晚饭后去喝点啤酒怎么样？ 你知道这很诱人，但对我们的健康真的不好。 什么意思?它会帮助我们放松。 你真的这么认为吗？我没有。这只会让我们变胖，变傻。记得上次吗？ 我想你是对的。但是我们该怎么办呢？我不想坐在家里。 我建议去健身房，在那里我们可以唱歌，还可以认识一些朋友。 这是个好主意。我听说玛丽和莎莉经常去那里打乒乓球。也许我们可以和他们组成一个四人组。 听起来很棒！如果他们愿意，我们可以请他们和我们一起去跳舞。那也是极好的锻炼和乐趣。 很好。我们走吧。 好吧。\\n',\n",
       " '你会做俯卧撑吗？ 我当然可以。小菜一碟！信不信由你，我一分钟可以做30个俯卧撑。 真的吗？我认为那是不可能的！ 你是说30个俯卧撑？ 耶！ 很简单。如果你每天锻炼，你也能做到。\\n',\n",
       " '你能开着收音机学习吗？ 不，我听背景音乐。 有什么不同？ 收音机里的新闻太多了。 没错，但是你必须买一台电唱机。\\n',\n",
       " '你还好吗？ 我很快就会好的。当我看到他们从电线上掉下来时，我吓坏了。 别担心。他是一名杂技演员。 我明白了。\\n',\n",
       " '嘿，约翰，溜冰鞋不错。它们是新的吗？ 是的，我刚拿到。我开始在社区联盟打冰球。所以，我终于给自己买了新冰鞋。 你打什么位置？ 我是一名后卫。这很有趣。你不必在防守时滑得那么快。 是的，你是个很大的家伙。我自己也打守门员。 是吗？哪个队？ 火箭队。 真的吗？我想我们下周和你们比赛。嗯，我得去练习了。回头见。 好吧，回头见。\\n',\n",
       " '嘿，莉迪亚，你在看什么？ 我在看我这个月的星座运势！我的前景非常乐观。它说我应该去一个充满异国情调的地方度假，我会有一个充满激情的夏日狂欢！ 你在说什么？让我看看...什么是星座？ 这是根据你的星座对你月份的预测。你出生的月份和日期有不同的符号。我出生于4月15日，所以我是白羊座。你什么时候出生的？ 1月5日。 让我想想。。。你是摩羯。它说你在工作中会感到压力，但是你可以在你的爱情生活中看到新的、令人兴奋的发展。看来我们都会有有趣的夏天！ 那是假的。我在工作中没有感到任何压力，我的爱情生活实际上是不存在的。十二宫杀手的事情都是一派胡言。 不，不是的，你的星座能告诉你很多关于你个性的信息。看到了吗？据说白羊座精力充沛，喜欢社交。 你当然符合这些标准，但它们太宽泛了，可以适用于任何人。它说了我什么？ 摩羯座是一个认真务实的人。她喜欢用传统的方式做事。听起来就像你！\\n',\n",
       " '弗兰克要结婚了，你相信吗？ 他是真的吗？ 是的，他是。他非常爱这个女孩。 他要和谁结婚？ 我想是他在西班牙度假时遇到的一个女孩。 他们为婚礼定好日期了吗？ 还没有。\\n',\n",
       " '我听说你在北郊买了一栋新房子。 是的，我们在上市的同一天买的。 这是什么样的房子？ 这是一种美妙的西班牙风格。 哦，我喜欢西班牙风格房子的屋顶瓦片。 这是讨价还价。河边像这样的房子价格要贵一倍。 太好了，这是一栋两居室的房子吗？ 不，它有三间卧室和三张床，还有一个12英尺高的客厅。有一个两用车的车库。 那也是个好地方。这对你来说是一笔不错的投资。 是的，你什么时候买房子？ 直到今年年底，你知道，就在我的婚礼之前。 好的，祝贺你。 谢谢你。\\n',\n",
       " '嗨，贝基，怎么了？ 没什么，除了我岳母快把我逼疯了。 有什么问题吗？ 她喜欢挑剔和批评我所做的一切。当她在的时候，我永远做不好任何事。 例如？ 嗯，上周我邀请她过来吃饭。我和我丈夫对食物没有意见，但是如果你听她的，那就好像我喂了她老肉和腐烂的蔬菜。没有什么能让她开心。 不，我看不到这种情况发生。我知道你是个好厨师，这样的事绝不会发生。 不仅如此。她也批评我们如何抚养孩子。 我岳母以前也对我们做同样的事情。如果对他们的管教不够，那么我们对他们的管教就太多了。她还抱怨我们给他们吃的食物，我们给他们送的学校，以及其他一切。 你说她以前是？你怎么阻止她的？ 我们基本上是让她坐下来，告诉她我们对她不断批评的感受，以及我们是如何欢迎她的建议，但希望她能让我们做自己的事。她明白了，现在一切都平静多了。 听起来是个好主意。我得试试那个。\\n',\n",
       " '吉娜的新程序员进展如何？ 我不想承认，但他们很好。而且要快。这个菲律宾孩子是个天才。 所以你会成为明星。com的最后期限，让我们下周开始运行？ 很接近了，但我们会成功的。 很好。在星星之后。我们不再需要Vikam的现金了。 如果我们不需要它们，我们也不需要吉娜。\\n']"
      ]
     },
     "execution_count": 2,
     "metadata": {},
     "output_type": "execute_result"
    }
   ],
   "source": [
    "with open('data/zhdd_lines.txt','r',encoding='utf-8') as f:\n",
    "    datas = f.readlines()\n",
    "datas[:10]"
   ]
  },
  {
   "cell_type": "code",
   "execution_count": 3,
   "id": "a8fa5596-1d1a-4d33-a840-b065dd6358b2",
   "metadata": {},
   "outputs": [
    {
     "name": "stdout",
     "output_type": "stream",
     "text": [
      "{'#', ',', '‘', '.', '\\\\', '…', '、', '！', '?', '@', '-', '&', ':', '’', '，', '+', '·', '×', ')', '？', '。', '《', '“', '~', '；', '/', '\"', '”', \"'\", '—', ' ', '*', '（', '=', '(', '》', '%', '\\n'}\n"
     ]
    }
   ],
   "source": [
    "# 查看特殊字符\n",
    "content = ''.join(datas)\n",
    "special_char = re.sub(r'[\\u4e00-\\u9fa5]', '', content)  # 匹配中文，将中文替换掉\n",
    "print(set(special_char) - set(string.ascii_letters) - set(string.digits))"
   ]
  },
  {
   "cell_type": "code",
   "execution_count": 4,
   "id": "ae153f73-46bd-4801-865b-c3788e47e6e2",
   "metadata": {},
   "outputs": [
    {
     "name": "stdout",
     "output_type": "stream",
     "text": [
      "tokens: [['喂', '，', '吉', '姆', '，', '晚', '饭', '后', '去', '喝', '点', '啤', '酒', '怎', '么', '样', '？', '<sep>', '你', '知', '道', '这', '很', '诱', '人', '，', '但', '对', '我', '们', '的', '健', '康', '真', '的', '不', '好', '。', '<sep>', '什', '么', '意', '思', '?', '它', '会', '帮', '助', '我', '们', '放', '松', '。', '<sep>', '你', '真', '的', '这', '么', '认', '为', '吗', '？', '我', '没', '有', '。', '这', '只', '会', '让', '我', '们', '变', '胖', '，', '变', '傻', '。', '记', '得', '上', '次', '吗', '？', '<sep>', '我', '想', '你', '是', '对', '的', '。', '但', '是', '我', '们', '该', '怎', '么', '办', '呢', '？', '我', '不', '想', '坐', '在', '家', '里', '。', '<sep>', '我', '建', '议', '去', '健', '身', '房', '，', '在', '那', '里', '我', '们', '可', '以', '唱', '歌', '，', '还', '可', '以', '认', '识', '一', '些', '朋', '友', '。', '<sep>', '这', '是', '个', '好', '主', '意', '。', '我', '听', '说', '玛', '丽', '和', '莎', '莉', '经', '常', '去', '那', '里', '打', '乒', '乓', '球', '。', '也', '许', '我', '们', '可', '以', '和', '他', '们', '组', '成', '一', '个', '四', '人', '组', '。', '<sep>', '听', '起', '来', '很', '棒', '！', '如', '果', '他', '们', '愿', '意', '，', '我', '们', '可', '以', '请', '他', '们', '和', '我', '们', '一', '起', '去', '跳', '舞', '。', '那', '也', '是', '极', '好', '的', '锻', '炼', '和', '乐', '趣', '。', '<sep>', '很', '好', '。', '我', '们', '走', '吧', '。', '<sep>', '好', '吧', '。', '<sep>'], ['你', '会', '做', '俯', '卧', '撑', '吗', '？', '<sep>', '我', '当', '然', '可', '以', '。', '小', '菜', '一', '碟', '！', '信', '不', '信', '由', '你', '，', '我', '一', '分', '钟', '可', '以', '做', '3', '0', '个', '俯', '卧', '撑', '。', '<sep>', '真', '的', '吗', '？', '我', '认', '为', '那', '是', '不', '可', '能', '的', '！', '<sep>', '你', '是', '说', '3', '0', '个', '俯', '卧', '撑', '？', '<sep>', '耶', '！', '<sep>', '很', '简', '单', '。', '如', '果', '你', '每', '天', '锻', '炼', '，', '你', '也', '能', '做', '到', '。', '<sep>'], ['你', '能', '开', '着', '收', '音', '机', '学', '习', '吗', '？', '<sep>', '不', '，', '我', '听', '背', '景', '音', '乐', '。', '<sep>', '有', '什', '么', '不', '同', '？', '<sep>', '收', '音', '机', '里', '的', '新', '闻', '太', '多', '了', '。', '<sep>', '没', '错', '，', '但', '是', '你', '必', '须', '买', '一', '台', '电', '唱', '机', '。', '<sep>'], ['你', '还', '好', '吗', '？', '<sep>', '我', '很', '快', '就', '会', '好', '的', '。', '当', '我', '看', '到', '他', '们', '从', '电', '线', '上', '掉', '下', '来', '时', '，', '我', '吓', '坏', '了', '。', '<sep>', '别', '担', '心', '。', '他', '是', '一', '名', '杂', '技', '演', '员', '。', '<sep>', '我', '明', '白', '了', '。', '<sep>'], ['嘿', '，', '约', '翰', '，', '溜', '冰', '鞋', '不', '错', '。', '它', '们', '是', '新', '的', '吗', '？', '<sep>', '是', '的', '，', '我', '刚', '拿', '到', '。', '我', '开', '始', '在', '社', '区', '联', '盟', '打', '冰', '球', '。', '所', '以', '，', '我', '终', '于', '给', '自', '己', '买', '了', '新', '冰', '鞋', '。', '<sep>', '你', '打', '什', '么', '位', '置', '？', '<sep>', '我', '是', '一', '名', '后', '卫', '。', '这', '很', '有', '趣', '。', '你', '不', '必', '在', '防', '守', '时', '滑', '得', '那', '么', '快', '。', '<sep>', '是', '的', '，', '你', '是', '个', '很', '大', '的', '家', '伙', '。', '我', '自', '己', '也', '打', '守', '门', '员', '。', '<sep>', '是', '吗', '？', '哪', '个', '队', '？', '<sep>', '火', '箭', '队', '。', '<sep>', '真', '的', '吗', '？', '我', '想', '我', '们', '下', '周', '和', '你', '们', '比', '赛', '。', '嗯', '，', '我', '得', '去', '练', '习', '了', '。', '回', '头', '见', '。', '<sep>', '好', '吧', '，', '回', '头', '见', '。', '<sep>'], ['嘿', '，', '莉', '迪', '亚', '，', '你', '在', '看', '什', '么', '？', '<sep>', '我', '在', '看', '我', '这', '个', '月', '的', '星', '座', '运', '势', '！', '我', '的', '前', '景', '非', '常', '乐', '观', '。', '它', '说', '我', '应', '该', '去', '一', '个', '充', '满', '异', '国', '情', '调', '的', '地', '方', '度', '假', '，', '我', '会', '有', '一', '个', '充', '满', '激', '情', '的', '夏', '日', '狂', '欢', '！', '<sep>', '你', '在', '说', '什', '么', '？', '让', '我', '看', '看', '.', '.', '.', '什', '么', '是', '星', '座', '？', '<sep>', '这', '是', '根', '据', '你', '的', '星', '座', '对', '你', '月', '份', '的', '预', '测', '。', '你', '出', '生', '的', '月', '份', '和', '日', '期', '有', '不', '同', '的', '符', '号', '。', '我', '出', '生', '于', '4', '月', '1', '5', '日', '，', '所', '以', '我', '是', '白', '羊', '座', '。', '你', '什', '么', '时', '候', '出', '生', '的', '？', '<sep>', '1', '月', '5', '日', '。', '<sep>', '让', '我', '想', '想', '。', '。', '。', '你', '是', '摩', '羯', '。', '它', '说', '你', '在', '工', '作', '中', '会', '感', '到', '压', '力', '，', '但', '是', '你', '可', '以', '在', '你', '的', '爱', '情', '生', '活', '中', '看', '到', '新', '的', '、', '令', '人', '兴', '奋', '的', '发', '展', '。', '看', '来', '我', '们', '都', '会', '有', '有', '趣', '的', '夏', '天', '！', '<sep>', '那', '是', '假', '的', '。', '我', '在', '工', '作', '中', '没', '有', '感', '到', '任', '何', '压', '力', '，', '我', '的', '爱', '情', '生', '活', '实', '际', '上', '是', '不', '存', '在', '的', '。', '十', '二', '宫', '杀', '手', '的', '事', '情', '都', '是', '一', '派', '胡', '言', '。', '<sep>', '不', '，', '不', '是', '的', '，', '你', '的', '星', '座', '能', '告', '诉', '你', '很', '多', '关', '于', '你', '个', '性', '的', '信', '息', '。', '看', '到', '了', '吗', '？', '据', '说', '白', '羊', '座', '精', '力', '充', '沛', '，', '喜', '欢', '社', '交', '。', '<sep>', '你', '当', '然', '符', '合', '这', '些', '标', '准', '，', '但', '它', '们', '太', '宽', '泛', '了', '，', '可', '以', '适', '用', '于', '任', '何', '人', '。', '它', '说', '了', '我', '什', '么', '？', '<sep>', '摩', '羯', '座', '是', '一', '个', '认', '真', '务', '实', '的', '人', '。', '她', '喜', '欢', '用', '传', '统', '的', '方', '式', '做', '事', '。', '听', '起', '来', '就', '像', '你', '！', '<sep>']]\n"
     ]
    }
   ],
   "source": [
    "def tokenize(datas):\n",
    "    tokens = []\n",
    "    for data in datas:\n",
    "        data = data.strip().replace(\"\\n\", \"\")\n",
    "        token = []\n",
    "        for char in data:\n",
    "            if char == ' ':\n",
    "                token.append('<sep>')\n",
    "            else:\n",
    "                token.append(char)\n",
    "        token.append('<sep>')\n",
    "        tokens.append(token)\n",
    "    return tokens\n",
    "\n",
    "tokens = tokenize(datas)\n",
    "print(\"tokens:\", tokens[:6])"
   ]
  },
  {
   "cell_type": "code",
   "execution_count": 5,
   "id": "611ce08b-676a-46b2-b620-1726f378e4eb",
   "metadata": {},
   "outputs": [
    {
     "data": {
      "text/plain": [
       "(12336, 1243, 9, 150.01840142671855)"
      ]
     },
     "execution_count": 5,
     "metadata": {},
     "output_type": "execute_result"
    }
   ],
   "source": [
    "len(tokens), max(len(sublist) for sublist in tokens), min(len(sublist) for sublist in tokens), np.mean([len(sublist) for sublist in tokens])"
   ]
  },
  {
   "cell_type": "code",
   "execution_count": 6,
   "id": "a6cd0ba4-f728-4295-9b51-6183537584c3",
   "metadata": {},
   "outputs": [
    {
     "data": {
      "text/plain": [
       "[<matplotlib.lines.Line2D at 0x7fc82bbd4f50>]"
      ]
     },
     "execution_count": 6,
     "metadata": {},
     "output_type": "execute_result"
    },
    {
     "data": {
      "image/png": "[encoded data removed]",
      "text/plain": [
       "<Figure size 1000x600 with 1 Axes>"
      ]
     },
     "metadata": {},
     "output_type": "display_data"
    }
   ],
   "source": [
    "lengths = [len(sublist) for sublist in tokens]\n",
    "length_freq = Counter(lengths)\n",
    "x = sorted(length_freq.keys())\n",
    "y = [length_freq[i] for i in x]\n",
    "plt.figure(figsize=(10, 6))\n",
    "plt.plot(x, y)"
   ]
  },
  {
   "cell_type": "code",
   "execution_count": 7,
   "id": "8aca756b-a4c2-4a49-99da-84138cc5b2da",
   "metadata": {},
   "outputs": [],
   "source": [
    "tokens_ = []\n",
    "for sequence in tokens:\n",
    "    if len(sequence) > 500:\n",
    "        tokens_.append(sequence[:500])\n",
    "    else:\n",
    "        tokens_.append(sequence)"
   ]
  },
  {
   "cell_type": "code",
   "execution_count": 8,
   "id": "ef13044d-bffa-4680-a0d7-71478c483d0a",
   "metadata": {},
   "outputs": [
    {
     "data": {
      "text/plain": [
       "[<matplotlib.lines.Line2D at 0x7fc82ba98fe0>]"
      ]
     },
     "execution_count": 8,
     "metadata": {},
     "output_type": "execute_result"
    },
    {
     "data": {
      "image/png": "[encoded data removed]",
      "text/plain": [
       "<Figure size 1000x600 with 1 Axes>"
      ]
     },
     "metadata": {},
     "output_type": "display_data"
    }
   ],
   "source": [
    "lengths = [len(sublist) for sublist in tokens_]\n",
    "length_freq = Counter(lengths)\n",
    "x = sorted(length_freq.keys())\n",
    "y = [length_freq[i] for i in x]\n",
    "plt.figure(figsize=(10, 6))\n",
    "plt.plot(x, y)"
   ]
  },
  {
   "cell_type": "code",
   "execution_count": 9,
   "id": "0a9c1911-7d2b-4dbb-9aa4-1464c1763984",
   "metadata": {},
   "outputs": [],
   "source": [
    "tokens = tokens_  "
   ]
  },
  {
   "cell_type": "code",
   "execution_count": 10,
   "id": "dcc8e2ed-8643-4fa6-9fac-255c6160cd2b",
   "metadata": {},
   "outputs": [],
   "source": [
    "from collections import Counter  #计数类\n",
    "\n",
    "flatten = lambda l: [item for sublist in l for item in sublist]  #展平数组\n",
    "\n",
    "# 构建词表\n",
    "class Vocab:\n",
    "    def __init__(self, tokens):\n",
    "        self.tokens = tokens  # 传入的tokens是二维列表\n",
    "        self.token2index = {'<bos>': 0, '<eos>': 1, '<unk>': 2, '<pad>': 3}  # 先存好特殊词元\n",
    "        # 将词元按词频排序后生成列表\n",
    "        self.token2index.update({\n",
    "            token: index + 4\n",
    "            for index, (token, freq) in enumerate(\n",
    "                sorted(Counter(flatten(self.tokens)).items(), key=lambda x: x[1], reverse=True)\n",
    "            )\n",
    "        })\n",
    "        #构建id到词元字典\n",
    "        self.index2token = {index: token for token, index in self.token2index.items()}\n",
    "\n",
    "    def __getitem__(self, query):\n",
    "        # 单一索引\n",
    "        if isinstance(query, (str, int)):\n",
    "            if isinstance(query, str):\n",
    "                return self.token2index.get(query, 0)\n",
    "            elif isinstance(query, (int)):\n",
    "                return self.index2token.get(query, '<unk>')\n",
    "        # 数组索引\n",
    "        elif isinstance(query, (list, tuple)):\n",
    "            return [self.__getitem__(item) for item in query]\n",
    "            \n",
    "    def __len__(self):\n",
    "        return len(self.index2token)"
   ]
  },
  {
   "cell_type": "code",
   "execution_count": 11,
   "id": "c97e2318-fb72-48b8-a42d-90869efaf528",
   "metadata": {},
   "outputs": [],
   "source": [
    "vocab = Vocab(tokens)\n",
    "vocab_size = len(vocab)"
   ]
  },
  {
   "cell_type": "code",
   "execution_count": 12,
   "id": "39638877-f0d4-4384-8271-86c09fb97b61",
   "metadata": {},
   "outputs": [
    {
     "data": {
      "text/plain": [
       "3426"
      ]
     },
     "execution_count": 12,
     "metadata": {},
     "output_type": "execute_result"
    }
   ],
   "source": [
    "vocab_size"
   ]
  },
  {
   "cell_type": "code",
   "execution_count": 13,
   "id": "8a9c9a61-4354-40d1-a324-e265953536ba",
   "metadata": {},
   "outputs": [],
   "source": [
    "class MyDataSet(Data.Dataset):\n",
    "    def __init__(self, datas):\n",
    "        self.datas = datas\n",
    "\n",
    "    def __getitem__(self, item):\n",
    "        data = self.datas[item]\n",
    "        decoder_input = data[:-1]\n",
    "        decoder_output = data[1:]\n",
    "\n",
    "        decoder_input_len = len(decoder_input)\n",
    "        decoder_output_len = len(decoder_output)\n",
    "\n",
    "        return {\"decoder_input\":decoder_input, \"decoder_input_len\":decoder_input_len,\n",
    "                \"decoder_output\":decoder_output, \"decoder_output_len\":decoder_output_len}\n",
    "\n",
    "    def __len__(self):\n",
    "        return len(self.datas)\n",
    "\n",
    "    def padding_batch(self, batch):\n",
    "        # 批处理, 对每个批次的数据中, 长度不够的序列填充<pad>\n",
    "        decoder_input_lens = [d[\"decoder_input_len\"] for d in batch]\n",
    "        decoder_output_lens = [d[\"decoder_output_len\"] for d in batch]\n",
    "\n",
    "        decoder_input_maxlen = max(decoder_input_lens)\n",
    "        decoder_output_maxlen = max(decoder_output_lens)\n",
    "\n",
    "        for d in batch:\n",
    "            d[\"decoder_input\"].extend([vocab[\"<pad>\"]]*(decoder_input_maxlen-d[\"decoder_input_len\"]))\n",
    "            d[\"decoder_output\"].extend([vocab[\"<pad>\"]]*(decoder_output_maxlen-d[\"decoder_output_len\"]))\n",
    "        decoder_inputs = torch.tensor([d[\"decoder_input\"] for d in batch], dtype=torch.long)\n",
    "        decoder_outputs = torch.tensor([d[\"decoder_output\"] for d in batch], dtype=torch.long)\n",
    "        return decoder_inputs, decoder_outputs"
   ]
  },
  {
   "cell_type": "code",
   "execution_count": 14,
   "id": "cb76d2e5-1735-416d-918f-b75af81cf847",
   "metadata": {},
   "outputs": [],
   "source": [
    "batch_size = 32  # mask掩没有意义的占位符\n",
    "def get_attn_pad_mask(seq_q, seq_k):                # seq_q: [batch_size, seq_len] , seq_k: [batch_size\n",
    "    batch_size, len_q = seq_q.size()\n",
    "    batch_size, len_k = seq_k.size()\n",
    "    pad_attn_mask = seq_k.data.eq(0).unsqueeze(1)   # 判断 输入那些含有P(=0),用1标记 ,[batch_size, 1,\n",
    "    return pad_attn_mask.expand(batch_size, len_q, len_k)\n",
    "\n",
    "# mask掩未来信息\n",
    "def get_attn_subsequence_mask(seq):                 # seq: [batch_size, tgt_len]\n",
    "    attn_shape = [seq.size(0), seq.size(1), seq.size(1)]\n",
    "    subsequence_mask = np.triu(np.ones(attn_shape), k=1)  # 生成上三角矩阵,[batch_size, tgt_len, tgt_\n",
    "    subsequence_mask = torch.from_numpy(subsequence_mask).byte()  # [batch_size, tgt_len, tgt_len]\n",
    "    subsequence_mask = subsequence_mask.to(device)\n",
    "    return subsequence_mask\n",
    "# 构造数据集\n",
    "tokens_num = [[vocab[word] for word in line] for line in tokens] # 文本序列转id序列\n",
    "dataset = MyDataSet(tokens_num)\n",
    "data_loader = Data.DataLoader(dataset, batch_size=batch_size, collate_fn=dataset.padding_batch)"
   ]
  },
  {
   "cell_type": "code",
   "execution_count": 15,
   "id": "b0c1b9e3-5263-4abf-b513-34b7f4d286d3",
   "metadata": {},
   "outputs": [],
   "source": [
    "# 缩放点积注意力计算\n",
    "class ScaledDotProductAttention(nn.Module):\n",
    "    def __init__(self):\n",
    "        super(ScaledDotProductAttention, self).__init__()\n",
    "    \n",
    "    def forward(self, Q, K, V, attn_mask):\n",
    "        '''\n",
    "        Q: [batch_size, n_heads, len_q, d_k]\n",
    "        K: [batch_size, n_heads, len_k, d_k]\n",
    "        V: [batch_size, n_heads, len_v(=len_k), d_v]\n",
    "        attn_mask: [batch_size, n_heads, seq_len, seq_len]\n",
    "        '''\n",
    "        scores = torch.matmul(Q, K.transpose(-1, -2)) / np.sqrt(d_k) # scores : [batch_size, n_heads, len_q, len_k]\n",
    "        scores.masked_fill_(attn_mask, -1e9) # Fills elements of self tensor with value where mask is True.\n",
    "        attn = nn.Softmax(dim=-1)(scores)\n",
    "        context = torch.matmul(attn, V) # [batch_size, n_heads, len_q, d_v]\n",
    "        return context, attn"
   ]
  },
  {
   "cell_type": "code",
   "execution_count": 16,
   "id": "98e6276c-cbdb-4635-bd6c-ca3a1a4aff9d",
   "metadata": {},
   "outputs": [],
   "source": [
    "class MultiHeadAttention(nn.Module):\n",
    "    def __init__(self):\n",
    "        super(MultiHeadAttention, self).__init__()\n",
    "        self.W_Q = nn.Linear(d_model, d_k * n_heads, bias=False)\n",
    "        self.W_K = nn.Linear(d_model, d_k * n_heads, bias=False)\n",
    "        self.W_V = nn.Linear(d_model, d_v * n_heads, bias=False)\n",
    "        self.fc = nn.Linear(n_heads * d_v, d_model, bias=False)\n",
    "        self.layer_norm = nn.LayerNorm(d_model) \n",
    "        \n",
    "    def forward(self, input_Q, input_K, input_V, attn_mask):\n",
    "        '''\n",
    "        input_Q: [batch_size, len_q, d_model]\n",
    "        input_K: [batch_size, len_k, d_model]\n",
    "        input_V: [batch_size, len_v(=len_k), d_model]\n",
    "        attn_mask: [batch_size, seq_len, seq_len]\n",
    "        '''\n",
    "        residual, batch_size = input_Q, input_Q.size(0)\n",
    "        # (B, S, D) -proj-> (B, S, D_new) -split-> (B, S, H, W) -trans-> (B, H, S, W)\n",
    "        Q = self.W_Q(input_Q).view(batch_size, -1, n_heads, d_k).transpose(1, 2)  # Q: [batch_size, n_heads, len_q, d_k]\n",
    "        K = self.W_K(input_K).view(batch_size, -1, n_heads, d_k).transpose(1, 2)  # K: [batch_size, n_heads, len_k, d_k]\n",
    "        V = self.W_V(input_V).view(batch_size, -1, n_heads, d_v).transpose(1, 2)  # V: [batch_size, n_heads, len_v(=len_k), d_v]\n",
    "\n",
    "        attn_mask = attn_mask.unsqueeze(1).repeat(1, n_heads, 1, 1) # attn_mask : [batch_size, n_heads, seq_len, seq_len]\n",
    "\n",
    "        # context: [batch_size, n_heads, len_q, d_v], attn: [batch_size, n_heads, len_q, len_k]\n",
    "        context, attn = ScaledDotProductAttention()(Q, K, V, attn_mask)\n",
    "        context = context.transpose(1, 2).reshape(batch_size, -1, n_heads * d_v) # context: [batch_size, len_q, n_heads * d_v]\n",
    "        output = self.fc(context) # [batch_size, len_q, d_model]\n",
    "        return self.layer_norm(output + residual), attn  # 使用类的 layer_norm 属性\n"
   ]
  },
  {
   "cell_type": "code",
   "execution_count": 18,
   "id": "79c948a3-3d73-4635-a6f4-ff0ff0567ec6",
   "metadata": {},
   "outputs": [],
   "source": [
    "class PoswiseFeedForwardNet(nn.Module):\n",
    "    def __init__(self):\n",
    "        super(PoswiseFeedForwardNet, self).__init__()\n",
    "        self.fc = nn.Sequential(\n",
    "            nn.Linear(d_model, d_ff, bias=False),\n",
    "            nn.ReLU(),\n",
    "            nn.Linear(d_ff, d_model, bias=False))\n",
    "        self.layer_norm = nn.LayerNorm(d_model) \n",
    "        \n",
    "    def forward(self, inputs):\n",
    "        # inputs: [batch_size, seq_len, d_model]\n",
    "        residual = inputs\n",
    "        output = self.fc(inputs)\n",
    "        return self.layer_norm(output + residual)  # 残差 + LayerNorm"
   ]
  },
  {
   "cell_type": "code",
   "execution_count": 19,
   "id": "a1cb710f-a5b0-4985-b5bd-57ef6cf14c5d",
   "metadata": {},
   "outputs": [],
   "source": [
    "# 解码器层\n",
    "class DecoderLayer(nn.Module):\n",
    "    def __init__(self):\n",
    "        super(DecoderLayer, self).__init__()\n",
    "        self.dec_self_attn = MultiHeadAttention()\n",
    "        self.pos_ffn = PoswiseFeedForwardNet()\n",
    "\n",
    "    def forward(self, dec_inputs, dec_self_attn_mask):\n",
    "        '''\n",
    "        dec_inputs: [batch_size, tgt_len, d_model]\n",
    "        dec_self_attn_mask: [batch_size, tgt_len, tgt_len]\n",
    "        '''\n",
    "        # dec_outputs: [batch_size, tgt_len, d_model], dec_self_attn: [batch_size, n_heads, tgt_len, tgt_len]\n",
    "        dec_outputs, dec_self_attn = self.dec_self_attn(dec_inputs, dec_inputs, dec_inputs, dec_self_attn_mask)\n",
    "        dec_outputs = self.pos_ffn(dec_outputs) # [batch_size, tgt_len, d_model]\n",
    "        return dec_outputs, dec_self_attn"
   ]
  },
  {
   "cell_type": "code",
   "execution_count": 20,
   "id": "5dc00c8e-a5a8-4790-b862-1e834e89eddf",
   "metadata": {},
   "outputs": [],
   "source": [
    "class Decoder(nn.Module):\n",
    "    def __init__(self):\n",
    "        super(Decoder, self).__init__()\n",
    "        self.tgt_emb = nn.Embedding(vocab_size, d_model)\n",
    "        self.pos_emb = nn.Embedding(seq_len, d_model)\n",
    "        self.layers = nn.ModuleList([DecoderLayer() for _ in range(n_layers)])\n",
    "\n",
    "    def forward(self, dec_inputs):\n",
    "        '''\n",
    "        dec_inputs: [batch_size, tgt_len]\n",
    "        '''\n",
    "        # 构建position embedding\n",
    "        seq_len = dec_inputs.size(1)\n",
    "        pos = torch.arange(seq_len, dtype=torch.long, device=device)\n",
    "        pos = pos.unsqueeze(0).expand_as(dec_inputs)  # [seq_len] -> [batch_size, seq_len]\n",
    "        word_emb = self.tgt_emb(dec_inputs)  # [batch_size, tgt_len, d_model]\n",
    "        pos_emb = self.pos_emb(pos)  # [batch_size, tgt_len, d_model]\n",
    "        dec_outputs = word_emb + pos_emb\n",
    "\n",
    "        dec_self_attn_pad_mask = get_attn_pad_mask(dec_inputs, dec_inputs)  # [batch_size, tgt_len, tgt_len]\n",
    "        dec_self_attn_subsequent_mask = get_attn_subsequence_mask(dec_inputs)  # [batch_size, tgt_len]\n",
    "        dec_self_attn_mask = torch.gt((dec_self_attn_pad_mask + dec_self_attn_subsequent_mask),\n",
    "                                      0)  # [batch_size, tgt_len, tgt_len]\n",
    "\n",
    "        dec_self_attns = []\n",
    "        for layer in self.layers:\n",
    "            # dec_outputs: [batch_size, tgt_len, d_model], dec_self_attn: [batch_size, n_heads, tgt_len, tgt_len]\n",
    "            dec_outputs, dec_self_attn = layer(dec_outputs, dec_self_attn_mask)\n",
    "            dec_self_attns.append(dec_self_attn)\n",
    "\n",
    "        return dec_outputs, dec_self_attns"
   ]
  },
  {
   "cell_type": "code",
   "execution_count": 21,
   "id": "79bc30a7-b01c-415e-a311-a524965b71d9",
   "metadata": {},
   "outputs": [],
   "source": [
    "class GPT(nn.Module):\n",
    "    def __init__(self):\n",
    "        super(GPT, self).__init__()\n",
    "        self.decoder = Decoder()\n",
    "        self.projection = nn.Linear(d_model, vocab_size, bias=False)\n",
    "\n",
    "    def forward(self, dec_inputs):\n",
    "        '''\n",
    "        dec_inputs: [batch_size, tgt_len]\n",
    "        '''\n",
    "        # dec_outputs: [batch_size, tgt_len, d_model], dec_self_attns: [n_layers, batch_size, n_heads, tgt_len, tgt_len]\n",
    "        dec_outputs, dec_self_attns = self.decoder(dec_inputs)\n",
    "        # dec_logits: [batch_size, tgt_len, tgt_vocab_size]\n",
    "        dec_logits = self.projection(dec_outputs)\n",
    "        return dec_logits.view(-1, dec_logits.size(-1)), dec_self_attns\n",
    "\n",
    "    def answer(self, above): # 生成回复\n",
    "        dec_input = [vocab[word] for word in above]\n",
    "        dec_input.append(vocab['<sep>']) # 最后再后面增加<sep>\n",
    "        dec_input = torch.tensor(dec_input, dtype=torch.long, device=device).unsqueeze(0)\n",
    "\n",
    "        # 循环生成下一个单词\n",
    "        for i in range(100):\n",
    "            dec_outputs, _ = self.decoder(dec_input)\n",
    "            projected = self.projection(dec_outputs)\n",
    "            prob = projected.squeeze(0).max(dim=-1, keepdim=False)[1]\n",
    "            next_id = prob.data[-1]\n",
    "\n",
    "            if next_id == vocab['<sep>']: # 到出现'<sep>'结束\n",
    "                break\n",
    "\n",
    "            dec_input = torch.cat(\n",
    "                [dec_input.detach(), torch.tensor([[next_id]], dtype=dec_input.dtype, device=device)], -1)\n",
    "\n",
    "        output = dec_input.squeeze(0)\n",
    "        sequence = [vocab[int(id)] for id in output] # id转文字\n",
    "\n",
    "        answer = \"\".join(sequence)\n",
    "        answer = answer[answer.rindex(\"<sep>\")+5: ] # 取最后一个<sep>后面部分, +5 是加上<sep>本身的长度\n",
    "\n",
    "        return answer"
   ]
  },
  {
   "cell_type": "code",
   "execution_count": 22,
   "id": "44885fb8-dfc8-40e5-80ff-d70862e38e5d",
   "metadata": {},
   "outputs": [],
   "source": [
    "# 定义超参数\n",
    "device = torch.device(\"cuda\") if torch.cuda.is_available() else torch.device(\"cpu\")\n",
    "seq_len = 500  # 序列最大长度\n",
    "d_model = 768  # Embedding维度\n",
    "d_ff = 2048  # 前馈网络维度\n",
    "d_k = d_v = 64  # QKV维度\n",
    "n_layers = 6  # 解码器层数\n",
    "n_heads = 8  # 多头注意力头数\n",
    "batch_size = 64\n",
    "epochs = 30"
   ]
  },
  {
   "cell_type": "code",
   "execution_count": 23,
   "id": "a44d3f07-a83c-4d32-8790-a03a177045e3",
   "metadata": {},
   "outputs": [
    {
     "data": {
      "text/plain": [
       "device(type='cuda')"
      ]
     },
     "execution_count": 23,
     "metadata": {},
     "output_type": "execute_result"
    }
   ],
   "source": [
    "device"
   ]
  },
  {
   "cell_type": "code",
   "execution_count": 24,
   "id": "e16af6ea-ef21-416b-8073-f74e5c95e275",
   "metadata": {},
   "outputs": [],
   "source": [
    "# 定义模型\n",
    "model = GPT()\n",
    "model = model.to(device)"
   ]
  },
  {
   "cell_type": "code",
   "execution_count": 25,
   "id": "da4d3b94-62aa-4be8-b6c9-6f034de5f0d1",
   "metadata": {},
   "outputs": [],
   "source": [
    "for name, param in model.named_parameters():\n",
    "    try:\n",
    "        param.data = param.data.to(device)\n",
    "    except Exception as e:\n",
    "        print(f\"Error moving parameter {name} to device: {e}\")"
   ]
  },
  {
   "cell_type": "code",
   "execution_count": 26,
   "id": "fa845800-1ba7-46a9-9138-910dd333d481",
   "metadata": {},
   "outputs": [],
   "source": [
    "criterion = nn.CrossEntropyLoss(ignore_index=0).to(device)\n",
    "optimizer = optim.Adam(model.parameters(), lr=1e-4)"
   ]
  },
  {
   "cell_type": "code",
   "execution_count": null,
   "id": "a98ab4c5-4935-4803-bd25-11ea1dacd702",
   "metadata": {},
   "outputs": [],
   "source": [
    "loss_history = []  # 记录损失变化"
   ]
  },
  {
   "cell_type": "markdown",
   "id": "79038972-1159-45fb-9bb6-9fc7512de9e5",
   "metadata": {},
   "source": [
    "vocab_size已经超过了1000，seq_len取决于batch_size(1)，所以不能设置seq_len为350"
   ]
  },
  {
   "cell_type": "code",
   "execution_count": 33,
   "id": "77ad0e01-0e65-4b7a-bfe8-23889746e52f",
   "metadata": {},
   "outputs": [
    {
     "name": "stderr",
     "output_type": "stream",
     "text": [
      "100%|█████████████████████████████████████████| 386/386 [02:30<00:00,  2.57it/s]\n"
     ]
    },
    {
     "name": "stdout",
     "output_type": "stream",
     "text": [
      "\tTrain Loss: 0.313\n"
     ]
    },
    {
     "name": "stderr",
     "output_type": "stream",
     "text": [
      "100%|█████████████████████████████████████████| 386/386 [02:36<00:00,  2.47it/s]\n"
     ]
    },
    {
     "name": "stdout",
     "output_type": "stream",
     "text": [
      "\tTrain Loss: 0.313\n"
     ]
    },
    {
     "name": "stderr",
     "output_type": "stream",
     "text": [
      "  5%|██                                        | 19/386 [00:07<02:30,  2.43it/s]\n"
     ]
    },
    {
     "ename": "KeyboardInterrupt",
     "evalue": "",
     "output_type": "error",
     "traceback": [
      "\u001b[0;31m---------------------------------------------------------------------------\u001b[0m",
      "\u001b[0;31mKeyboardInterrupt\u001b[0m                         Traceback (most recent call last)",
      "Cell \u001b[0;32mIn[33], line 6\u001b[0m\n\u001b[1;32m      4\u001b[0m \u001b[38;5;28;01mfor\u001b[39;00m i, (dec_inputs, dec_outputs) \u001b[38;5;129;01min\u001b[39;00m \u001b[38;5;28menumerate\u001b[39m(tqdm(data_loader)):\n\u001b[1;32m      5\u001b[0m     optimizer\u001b[38;5;241m.\u001b[39mzero_grad()\n\u001b[0;32m----> 6\u001b[0m     dec_inputs, dec_outputs \u001b[38;5;241m=\u001b[39m \u001b[43mdec_inputs\u001b[49m\u001b[38;5;241;43m.\u001b[39;49m\u001b[43mto\u001b[49m\u001b[43m(\u001b[49m\u001b[43mdevice\u001b[49m\u001b[43m)\u001b[49m, dec_outputs\u001b[38;5;241m.\u001b[39mto(device)\n\u001b[1;32m      7\u001b[0m     \u001b[38;5;66;03m# outputs: [batch_size * tgt_len, tgt_vocab_size]\u001b[39;00m\n\u001b[1;32m      8\u001b[0m     outputs, dec_self_attns \u001b[38;5;241m=\u001b[39m model(dec_inputs)\n",
      "\u001b[0;31mKeyboardInterrupt\u001b[0m: "
     ]
    }
   ],
   "source": [
    "for epoch in range(epochs):\n",
    "    model.train()\n",
    "    epoch_loss = 0\n",
    "    for i, (dec_inputs, dec_outputs) in enumerate(tqdm(data_loader)):\n",
    "        optimizer.zero_grad()\n",
    "        dec_inputs, dec_outputs = dec_inputs.to(device), dec_outputs.to(device)\n",
    "        # outputs: [batch_size * tgt_len, tgt_vocab_size]\n",
    "        outputs, dec_self_attns = model(dec_inputs)\n",
    "        \n",
    "        loss = criterion(outputs, dec_outputs.view(-1))\n",
    "        epoch_loss += loss.item()\n",
    "        loss.backward()\n",
    "        optimizer.step()\n",
    "    \n",
    "    train_loss = epoch_loss / len(data_loader)\n",
    "    loss_history.append(train_loss)  # 记录损失变化\n",
    "    print(f'\\tTrain Loss: {train_loss:.3f}')\n",
    "    torch.save(model.state_dict(), 'model/gpt_chat.pt')  # 保存模型"
   ]
  },
  {
   "cell_type": "code",
   "execution_count": 34,
   "id": "e95a8a5b-6913-4438-8e84-8dbb84dc9dd7",
   "metadata": {},
   "outputs": [
    {
     "data": {
      "text/plain": [
       "GPT(\n",
       "  (decoder): Decoder(\n",
       "    (tgt_emb): Embedding(3426, 768)\n",
       "    (pos_emb): Embedding(500, 768)\n",
       "    (layers): ModuleList(\n",
       "      (0-5): 6 x DecoderLayer(\n",
       "        (dec_self_attn): MultiHeadAttention(\n",
       "          (W_Q): Linear(in_features=768, out_features=512, bias=False)\n",
       "          (W_K): Linear(in_features=768, out_features=512, bias=False)\n",
       "          (W_V): Linear(in_features=768, out_features=512, bias=False)\n",
       "          (fc): Linear(in_features=512, out_features=768, bias=False)\n",
       "          (layer_norm): LayerNorm((768,), eps=1e-05, elementwise_affine=True)\n",
       "        )\n",
       "        (pos_ffn): PoswiseFeedForwardNet(\n",
       "          (fc): Sequential(\n",
       "            (0): Linear(in_features=768, out_features=2048, bias=False)\n",
       "            (1): ReLU()\n",
       "            (2): Linear(in_features=2048, out_features=768, bias=False)\n",
       "          )\n",
       "          (layer_norm): LayerNorm((768,), eps=1e-05, elementwise_affine=True)\n",
       "        )\n",
       "      )\n",
       "    )\n",
       "  )\n",
       "  (projection): Linear(in_features=768, out_features=3426, bias=False)\n",
       ")"
      ]
     },
     "execution_count": 34,
     "metadata": {},
     "output_type": "execute_result"
    }
   ],
   "source": [
    "model = GPT().to(device)\n",
    "model.load_state_dict(torch.load('model/gpt_chat.pt'))  # 加载训练好的模型\n",
    "model.eval()"
   ]
  },
  {
   "cell_type": "code",
   "execution_count": 35,
   "id": "6a1fc977-2ab0-47ae-ab64-850ba1c0cc24",
   "metadata": {},
   "outputs": [
    {
     "name": "stdout",
     "output_type": "stream",
     "text": [
      "你好。\n"
     ]
    }
   ],
   "source": [
    "ask = \"你好啊\"\n",
    "print(model.answer(ask))"
   ]
  },
  {
   "cell_type": "code",
   "execution_count": 36,
   "id": "a5d1566a-a2b5-4c43-bd8c-2a120315d2cd",
   "metadata": {},
   "outputs": [
    {
     "name": "stdout",
     "output_type": "stream",
     "text": [
      "是的，他是。他为什么不同？\n"
     ]
    }
   ],
   "source": [
    "ask = \"能不喜欢老八的都是神人了吧\"\n",
    "print(model.answer(ask))"
   ]
  },
  {
   "cell_type": "code",
   "execution_count": 38,
   "id": "95d3b6d5-d092-4bfa-8116-76a5d044aa5c",
   "metadata": {},
   "outputs": [
    {
     "name": "stdout",
     "output_type": "stream",
     "text": [
      "我喜欢画面包。\n"
     ]
    }
   ],
   "source": [
    "ask = \"你喜欢吃什么？\"\n",
    "print(model.answer(ask))"
   ]
  },
  {
   "cell_type": "code",
   "execution_count": 39,
   "id": "efec9217-18be-4b2b-85c2-7a2fc1463f5b",
   "metadata": {},
   "outputs": [
    {
     "name": "stdout",
     "output_type": "stream",
     "text": [
      "是的，我有多么好啊！\n"
     ]
    }
   ],
   "source": [
    "ask = \"你想睡觉吗？\"\n",
    "print(model.answer(ask))"
   ]
  },
  {
   "cell_type": "code",
   "execution_count": 43,
   "id": "29cf5889-aacf-4104-b66a-2c5c046222c7",
   "metadata": {},
   "outputs": [
    {
     "name": "stdout",
     "output_type": "stream",
     "text": [
      "我们已经讨论过了，但是我们最近的一切。看，那边的鸟上周年七次。\n"
     ]
    }
   ],
   "source": [
    "ask = \"每周六你都在做什么？\"\n",
    "print(model.answer(ask))"
   ]
  }
 ],
 "metadata": {
  "kernelspec": {
   "display_name": "Python 3 (ipykernel)",
   "language": "python",
   "name": "python3"
  },
  "language_info": {
   "codemirror_mode": {
    "name": "ipython",
    "version": 3
   },
   "file_extension": ".py",
   "mimetype": "text/x-python",
   "name": "python",
   "nbconvert_exporter": "python",
   "pygments_lexer": "ipython3",
   "version": "3.12.0"
  }
 },
 "nbformat": 4,
 "nbformat_minor": 5
}
