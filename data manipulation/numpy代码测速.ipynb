{
 "cells": [
  {
   "cell_type": "code",
   "execution_count": 26,
   "id": "6007b2bd-44af-4282-b240-c519b587c9b6",
   "metadata": {},
   "outputs": [],
   "source": [
    "import numpy as np"
   ]
  },
  {
   "cell_type": "code",
   "execution_count": 4,
   "id": "6b1a0f24-7b8c-4c2c-b306-4b14b62c5b2b",
   "metadata": {},
   "outputs": [
    {
     "name": "stdout",
     "output_type": "stream",
     "text": [
      "Writing test.py\n"
     ]
    }
   ],
   "source": [
    "%%writefile test.py\n",
    "def test(name):\n",
    "    print(name)"
   ]
  },
  {
   "cell_type": "code",
   "execution_count": 5,
   "id": "bad013fc-ac8b-4af3-954c-1e2f8b7cfd5b",
   "metadata": {},
   "outputs": [],
   "source": [
    " %run test.py"
   ]
  },
  {
   "cell_type": "code",
   "execution_count": 16,
   "id": "b56f4a62-5af4-4787-81f3-45aab3e3281a",
   "metadata": {},
   "outputs": [
    {
     "name": "stdout",
     "output_type": "stream",
     "text": [
      "Hello World\n"
     ]
    }
   ],
   "source": [
    "test(\"Hello World\")"
   ]
  },
  {
   "cell_type": "markdown",
   "id": "1f4a0323-f5f7-43a0-be7e-39a7359dcccc",
   "metadata": {},
   "source": [
    "%测一行,%%测全部。timeit测很多次，time测一次。"
   ]
  },
  {
   "cell_type": "code",
   "execution_count": 12,
   "id": "d162451b-c7b8-452e-a4df-4fc275753db6",
   "metadata": {},
   "outputs": [
    {
     "name": "stdout",
     "output_type": "stream",
     "text": [
      "60.5 µs ± 5.35 µs per loop (mean ± std. dev. of 7 runs, 10,000 loops each)\n"
     ]
    }
   ],
   "source": [
    "%timeit data = [x * x for x in range(1000)]  "
   ]
  },
  {
   "cell_type": "code",
   "execution_count": 14,
   "id": "90a2b860-c604-4677-8c9a-14aac56c06db",
   "metadata": {},
   "outputs": [
    {
     "name": "stdout",
     "output_type": "stream",
     "text": [
      "501 ms ± 250 µs per loop (mean ± std. dev. of 7 runs, 1 loop each)\n"
     ]
    }
   ],
   "source": [
    "%%timeit \n",
    "import time\n",
    "time.sleep(0.5)"
   ]
  },
  {
   "cell_type": "code",
   "execution_count": 18,
   "id": "373b3fbc-a6a2-465f-b6b2-b4549a5d14fa",
   "metadata": {},
   "outputs": [
    {
     "name": "stdout",
     "output_type": "stream",
     "text": [
      "Variable   Type        Data/Info\n",
      "--------------------------------\n",
      "test       function    <function test at 0x00000216B3851DA0>\n"
     ]
    }
   ],
   "source": [
    "%whos"
   ]
  },
  {
   "cell_type": "code",
   "execution_count": 36,
   "id": "c114063b-5d41-43fc-9b0c-33b15927bc43",
   "metadata": {},
   "outputs": [
    {
     "name": "stdout",
     "output_type": "stream",
     "text": [
      "11.7 ms ± 374 µs per loop (mean ± std. dev. of 7 runs, 100 loops each)\n"
     ]
    }
   ],
   "source": [
    "%%timeit\n",
    "x = [i for i in range(100000)]\n",
    "sum_x=0\n",
    "for i in x:\n",
    "    sum_x+=i**2\n",
    "sum_x"
   ]
  },
  {
   "cell_type": "code",
   "execution_count": 35,
   "id": "5a851926-d377-4f67-b8b2-b77b952ba794",
   "metadata": {},
   "outputs": [
    {
     "name": "stdout",
     "output_type": "stream",
     "text": [
      "153 µs ± 1.04 µs per loop (mean ± std. dev. of 7 runs, 10,000 loops each)\n"
     ]
    }
   ],
   "source": [
    "%%timeit\n",
    "x = np.arange(100000)\n",
    "sum_x = np.sum(x**2)\n",
    "sum_x"
   ]
  },
  {
   "cell_type": "code",
   "execution_count": 40,
   "id": "de17c674-48ba-4315-86f5-66d67174a797",
   "metadata": {},
   "outputs": [],
   "source": [
    "X = np.linspace(10,40,4).reshape(2,2)"
   ]
  },
  {
   "cell_type": "code",
   "execution_count": 41,
   "id": "e0060e44-1c4e-4fad-9d0a-967e1eb475b9",
   "metadata": {},
   "outputs": [
    {
     "data": {
      "text/plain": [
       "array([[10., 20.],\n",
       "       [30., 40.]])"
      ]
     },
     "execution_count": 41,
     "metadata": {},
     "output_type": "execute_result"
    }
   ],
   "source": [
    "X"
   ]
  },
  {
   "cell_type": "code",
   "execution_count": 42,
   "id": "4dc8895d-a38a-4ed7-b767-edfb22a5003a",
   "metadata": {},
   "outputs": [
    {
     "data": {
      "text/plain": [
       "array([[10., 30.],\n",
       "       [20., 40.]])"
      ]
     },
     "execution_count": 42,
     "metadata": {},
     "output_type": "execute_result"
    }
   ],
   "source": [
    "X.T"
   ]
  },
  {
   "cell_type": "code",
   "execution_count": 43,
   "id": "edd1fe0f-b19e-43b9-b679-391d3f68ead5",
   "metadata": {},
   "outputs": [],
   "source": [
    "X = np.linalg.inv(X)"
   ]
  },
  {
   "cell_type": "code",
   "execution_count": 44,
   "id": "8499900a-e229-4d9d-a8be-6444e3d66bb7",
   "metadata": {},
   "outputs": [
    {
     "data": {
      "text/plain": [
       "array([[-0.2 ,  0.1 ],\n",
       "       [ 0.15, -0.05]])"
      ]
     },
     "execution_count": 44,
     "metadata": {},
     "output_type": "execute_result"
    }
   ],
   "source": [
    "X"
   ]
  },
  {
   "cell_type": "code",
   "execution_count": 45,
   "id": "d4981e23-38e8-4775-bdd6-f71c8c82b26d",
   "metadata": {},
   "outputs": [
    {
     "data": {
      "text/plain": [
       "-0.005000000000000002"
      ]
     },
     "execution_count": 45,
     "metadata": {},
     "output_type": "execute_result"
    }
   ],
   "source": [
    "np.linalg.det(X)"
   ]
  },
  {
   "cell_type": "code",
   "execution_count": null,
   "id": "6b74b30a-f6a3-4b7b-9060-01a4c6e7577e",
   "metadata": {},
   "outputs": [],
   "source": []
  }
 ],
 "metadata": {
  "kernelspec": {
   "display_name": "Python 3 (ipykernel)",
   "language": "python",
   "name": "python3"
  },
  "language_info": {
   "codemirror_mode": {
    "name": "ipython",
    "version": 3
   },
   "file_extension": ".py",
   "mimetype": "text/x-python",
   "name": "python",
   "nbconvert_exporter": "python",
   "pygments_lexer": "ipython3",
   "version": "3.12.1"
  }
 },
 "nbformat": 4,
 "nbformat_minor": 5
}
