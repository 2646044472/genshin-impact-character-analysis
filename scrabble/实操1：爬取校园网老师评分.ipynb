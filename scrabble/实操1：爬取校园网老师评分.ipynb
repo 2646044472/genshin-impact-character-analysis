{
 "cells": [
  {
   "cell_type": "markdown",
   "id": "f178c7bd-c169-4d25-91e4-5104b16aa36e",
   "metadata": {},
   "source": [
    "# data manipulation"
   ]
  },
  {
   "cell_type": "code",
   "execution_count": 2,
   "id": "24f40d4e-5633-42f7-b69e-422dd4eb87b9",
   "metadata": {},
   "outputs": [
    {
     "name": "stdout",
     "output_type": "stream",
     "text": [
      "                0\n",
      "QU SONGNAN      C\n",
      "ZHA CHENYANG    B\n",
      "CHEN SHI        C\n",
      "SHAO HUAIYU    B-\n",
      "CAI YONGQING    B\n",
      "LIN JINGHUANG   F\n",
      "LI HAIFENG     C-\n",
      "TANG YUXIN     C+\n",
      "HONG GUO       C+\n",
      "XING GUICHUAN  B-\n",
      "SUN PENGZHAN   B+\n",
      "CHEN BINMENG   B-\n",
      "CHAN IAT NENG  D+\n",
      "LI ZONGJIN     B-\n",
      "ZHOU BINGPU    B-\n",
      "ZHANG NAN       D\n"
     ]
    }
   ],
   "source": [
    "from selenium import webdriver\n",
    "from selenium.webdriver.common.by import By\n",
    "import numpy as np\n",
    "import pandas as pd\n",
    "\n",
    "wd = webdriver.Edge()\n",
    "wd.implicitly_wait(5)\n",
    "wd.get(\"https://www.umeh.top/course/GEGA1006\")\n",
    "elements = wd.find_elements(By.CSS_SELECTOR, 'div[class=\"break-words\"]')\n",
    "elements2 = wd.find_elements(By.CSS_SELECTOR,\n",
    "                             'a[href*=\"/reviews/\"]>div>div[class=\"p-6 pt-0 pb-4\"]>div[class*=\"text-sm\"]>div:nth-child(2)')\n",
    "teacher = []\n",
    "grade = []\n",
    "for element in elements:\n",
    "    teacher.append(element.get_attribute('innerText'))\n",
    "for element2 in elements2:\n",
    "    grade.append(element2.get_attribute('innerText'))\n",
    "\n",
    "l = pd.DataFrame(grade)\n",
    "l.index = teacher\n",
    "print(l)"
   ]
  },
  {
   "cell_type": "code",
   "execution_count": null,
   "id": "7c85d501-6c71-4843-8c37-01315d329729",
   "metadata": {},
   "outputs": [],
   "source": []
  }
 ],
 "metadata": {
  "kernelspec": {
   "display_name": "Python 3 (ipykernel)",
   "language": "python",
   "name": "python3"
  },
  "language_info": {
   "codemirror_mode": {
    "name": "ipython",
    "version": 3
   },
   "file_extension": ".py",
   "mimetype": "text/x-python",
   "name": "python",
   "nbconvert_exporter": "python",
   "pygments_lexer": "ipython3",
   "version": "3.9.13"
  }
 },
 "nbformat": 4,
 "nbformat_minor": 5
}
