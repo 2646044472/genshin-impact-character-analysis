{
 "cells": [
  {
   "cell_type": "markdown",
   "id": "f178c7bd-c169-4d25-91e4-5104b16aa36e",
   "metadata": {},
   "source": [
    "# data manipulation"
   ]
  },
  {
   "cell_type": "code",
   "execution_count": 5,
   "id": "24f40d4e-5633-42f7-b69e-422dd4eb87b9",
   "metadata": {},
   "outputs": [],
   "source": [
    "from selenium import webdriver\n",
    "from selenium.webdriver.common.by import By\n",
    "import numpy as np\n",
    "import pandas as pd\n",
    "\n",
    "wd = webdriver.Edge()\n",
    "wd.implicitly_wait(5)\n",
    "course_name = \"GEGA1006\"\n",
    "wd.get(f\"https://www.umeh.top/course/{course_name}\")\n",
    "elements = wd.find_elements(By.CSS_SELECTOR, 'a[href*=\"/reviews/\"]')\n",
    "df = pd.DataFrame(columns=['course_name','name','overall_grade', 'grade', 'difficulty','useful', 'comments', 'offered'])\n",
    "for element in elements:\n",
    "    name = element.find_element(By.CSS_SELECTOR, 'div[class=\"break-words\"]').get_attribute('innerText')\n",
    "    overall_grade = element.find_element(By.CSS_SELECTOR, 'div>div[class=\"p-6 pt-0 pb-4\"]>div[class*=\"text-sm\"]>div:nth-child(2)').get_attribute('innerText')\n",
    "    blank = element.find_element(By.CSS_SELECTOR,'div.flex.flex-row.text-xs')\n",
    "    l = blank.get_attribute('innerText').split()\n",
    "    grade = l[1]\n",
    "    difficulty = l[3]\n",
    "    useful = l[5]\n",
    "    comments = l[7]\n",
    "    offered = element.find_element(By.CSS_SELECTOR, 'a[href*=\"/reviews/\"]>div>div>div>div[class*=\"text-white\"]:nth-child(2)').get_attribute('innerText')\n",
    "    new_row = pd.Series([course_name, name, overall_grade, grade, difficulty, useful, comments, offered], index=df.columns)\n",
    "    df.loc[len(df)] = new_row"
   ]
  },
  {
   "cell_type": "code",
   "execution_count": 13,
   "id": "7c85d501-6c71-4843-8c37-01315d329729",
   "metadata": {},
   "outputs": [
    {
     "name": "stdout",
     "output_type": "stream",
     "text": [
      "   course_name          name overall_grade grade difficulty useful comments  \\\n",
      "0     GEGA1006    QU SONGNAN             C     C         C+     C-       39   \n",
      "6     GEGA1006    LI HAIFENG            C-    C+          C     D+       74   \n",
      "11    GEGA1006  CHEN BINMENG            B-    A-         B+     B+       33   \n",
      "\n",
      "    offered  \n",
      "0   Offered  \n",
      "6   Offered  \n",
      "11  Offered  \n"
     ]
    }
   ],
   "source": [
    "print(df[(df['comments'] > \"3\") & (df['offered'] == 'Offered')])"
   ]
  },
  {
   "cell_type": "code",
   "execution_count": null,
   "id": "a771e3b3-de4d-4cd6-8cb2-d999e04ea096",
   "metadata": {},
   "outputs": [],
   "source": []
  },
  {
   "cell_type": "code",
   "execution_count": null,
   "id": "fe9dd844-9274-4925-a8ba-4b200bfc1a55",
   "metadata": {},
   "outputs": [],
   "source": []
  }
 ],
 "metadata": {
  "kernelspec": {
   "display_name": "Python 3 (ipykernel)",
   "language": "python",
   "name": "python3"
  },
  "language_info": {
   "codemirror_mode": {
    "name": "ipython",
    "version": 3
   },
   "file_extension": ".py",
   "mimetype": "text/x-python",
   "name": "python",
   "nbconvert_exporter": "python",
   "pygments_lexer": "ipython3",
   "version": "3.9.13"
  }
 },
 "nbformat": 4,
 "nbformat_minor": 5
}
