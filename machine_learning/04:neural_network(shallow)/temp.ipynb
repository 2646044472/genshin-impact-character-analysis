{
 "cells": [
  {
   "cell_type": "code",
   "execution_count": 1,
   "id": "963828b7-7d94-443d-8613-fb2ba1326988",
   "metadata": {},
   "outputs": [],
   "source": [
    "from sklearn import datasets\n",
    "import warnings\n",
    "warnings.filterwarnings('ignore')\n",
    "import numpy as np\n",
    "from sklearn.neighbors import KNeighborsClassifier\n",
    "from sklearn.tree import DecisionTreeClassifier\n",
    "from sklearn.linear_model import LogisticRegression\n",
    "from sklearn.preprocessing import PolynomialFeatures\n",
    "from sklearn.pipeline import Pipeline\n",
    "from sklearn.preprocessing import StandardScaler\n",
    "from sklearn.model_selection import cross_val_score\n",
    "\n",
    "def model_selection(x, y, cv):\n",
    "    knn = KNeighborsClassifier(n_neighbors=3)\n",
    "    dt = DecisionTreeClassifier(max_depth=5)\n",
    "    lr = Pipeline([\n",
    "        ('poly', PolynomialFeatures(degree=2)),\n",
    "        ('log_reg', LogisticRegression())\n",
    "    ])\n",
    "    print('knn_score: %f, dt_score: %f, lr_score: %f' % (\n",
    "        np.mean(cross_val_score(knn, x, y, cv=cv)),\n",
    "        np.mean(cross_val_score(lr, x, y, cv=cv)),\n",
    "        np.mean(cross_val_score(dt, x, y, cv=cv))\n",
    "    ))"
   ]
  },
  {
   "cell_type": "code",
   "execution_count": 2,
   "id": "14b677b0-00e1-48f5-9563-e3759ec0153a",
   "metadata": {},
   "outputs": [
    {
     "name": "stdout",
     "output_type": "stream",
     "text": [
      "knn_score: 0.966622, dt_score: 0.940478, lr_score: 0.630571\n"
     ]
    }
   ],
   "source": [
    "dataset = datasets.load_digits()\n",
    "x = dataset.data\n",
    "y = dataset.target\n",
    "cv = 5\n",
    "model_selection(x, y, cv)"
   ]
  },
  {
   "cell_type": "code",
   "execution_count": 3,
   "id": "2f188f15-5f3d-402b-b2f9-ff4904d0a12c",
   "metadata": {},
   "outputs": [],
   "source": [
    "from sklearn.neural_network import MLPClassifier"
   ]
  },
  {
   "cell_type": "code",
   "execution_count": 4,
   "id": "ebc81aa7-3dac-4cd3-98cf-9b309a8c707a",
   "metadata": {},
   "outputs": [
    {
     "data": {
      "text/plain": [
       "0.42405756731662014"
      ]
     },
     "execution_count": 4,
     "metadata": {},
     "output_type": "execute_result"
    }
   ],
   "source": [
    "nn = MLPClassifier(\n",
    "    hidden_layer_sizes=(1,),\n",
    "    activation='identity',    #不加激活函数\n",
    "    learning_rate_init=0.01,\n",
    "    random_state=233\n",
    ")\n",
    "np.mean(cross_val_score(nn, x, y, cv=cv))"
   ]
  },
  {
   "cell_type": "markdown",
   "id": "956eb6a9-3698-4f2e-9029-6168d00928f0",
   "metadata": {},
   "source": [
    "## 神经网络模型的选择"
   ]
  },
  {
   "cell_type": "code",
   "execution_count": 5,
   "id": "0515ff39-02c1-4fc5-be3d-f6d7f567a78e",
   "metadata": {},
   "outputs": [
    {
     "data": {
      "text/plain": [
       "0.8809300526152894"
      ]
     },
     "execution_count": 5,
     "metadata": {},
     "output_type": "execute_result"
    }
   ],
   "source": [
    "nn = MLPClassifier(\n",
    "    hidden_layer_sizes=(5,),\n",
    "    activation='identity',    #不加激活函数\n",
    "    learning_rate_init=0.01,\n",
    "    random_state=233\n",
    ")\n",
    "np.mean(cross_val_score(nn, x, y, cv=cv))"
   ]
  },
  {
   "cell_type": "code",
   "execution_count": 6,
   "id": "79770cb3-382d-44eb-bc3c-88185de2c76c",
   "metadata": {},
   "outputs": [
    {
     "data": {
      "text/plain": [
       "0.9176539770968741"
      ]
     },
     "execution_count": 6,
     "metadata": {},
     "output_type": "execute_result"
    }
   ],
   "source": [
    "nn = MLPClassifier(\n",
    "    hidden_layer_sizes=(100,),\n",
    "    activation='identity',    \n",
    "    learning_rate_init=0.01,\n",
    "    random_state=233\n",
    ")\n",
    "np.mean(cross_val_score(nn, x, y, cv=cv))"
   ]
  },
  {
   "cell_type": "code",
   "execution_count": 7,
   "id": "c0383caa-4f0c-4a1b-bb96-362b98af6296",
   "metadata": {},
   "outputs": [
    {
     "data": {
      "text/plain": [
       "0.9371402042711235"
      ]
     },
     "execution_count": 7,
     "metadata": {},
     "output_type": "execute_result"
    }
   ],
   "source": [
    "nn = MLPClassifier(\n",
    "    hidden_layer_sizes=(100,),\n",
    "    activation='relu',    \n",
    "    learning_rate_init=0.01,\n",
    "    random_state=233\n",
    ")\n",
    "np.mean(cross_val_score(nn, x, y, cv=cv))"
   ]
  },
  {
   "cell_type": "code",
   "execution_count": 8,
   "id": "00435106-b8e9-4159-a8a7-7b95ce1d277b",
   "metadata": {},
   "outputs": [
    {
     "data": {
      "text/plain": [
       "0.948811513463324"
      ]
     },
     "execution_count": 8,
     "metadata": {},
     "output_type": "execute_result"
    }
   ],
   "source": [
    "nn = MLPClassifier(\n",
    "    hidden_layer_sizes=(100,50,100),\n",
    "    activation='relu',    \n",
    "    learning_rate_init=0.01,\n",
    "    random_state=233\n",
    ")\n",
    "np.mean(cross_val_score(nn, x, y, cv=cv))"
   ]
  },
  {
   "cell_type": "code",
   "execution_count": 9,
   "id": "05543f2f-3828-478c-8f59-d533195b5d93",
   "metadata": {},
   "outputs": [
    {
     "data": {
      "text/plain": [
       "0.948811513463324"
      ]
     },
     "execution_count": 9,
     "metadata": {},
     "output_type": "execute_result"
    }
   ],
   "source": [
    "nn = MLPClassifier(\n",
    "    hidden_layer_sizes=(100,50,100),\n",
    "    activation='relu',    \n",
    "    learning_rate_init=0.01,\n",
    "    random_state=233,\n",
    "    solver='adam'    # default to adam\n",
    ")\n",
    "np.mean(cross_val_score(nn, x, y, cv=cv))"
   ]
  },
  {
   "cell_type": "code",
   "execution_count": 10,
   "id": "aace8b90-4ed3-4f48-9d4d-1970bd41b427",
   "metadata": {},
   "outputs": [
    {
     "data": {
      "text/plain": [
       "0.9165304859176725"
      ]
     },
     "execution_count": 10,
     "metadata": {},
     "output_type": "execute_result"
    }
   ],
   "source": [
    "nn = MLPClassifier(\n",
    "    hidden_layer_sizes=(100,50,100,50,100,50,50,100),\n",
    "    activation='relu',    \n",
    "    learning_rate_init=0.01,\n",
    "    random_state=233,\n",
    "    solver='adam'    # default to adam\n",
    ")\n",
    "np.mean(cross_val_score(nn, x, y, cv=cv))"
   ]
  },
  {
   "cell_type": "markdown",
   "id": "ce7c0aff-f147-43fa-81bb-2ca66264639d",
   "metadata": {},
   "source": [
    "因为梯度消失和梯度爆炸"
   ]
  },
  {
   "cell_type": "markdown",
   "id": "a31a9d1e-cbb7-4e64-9124-53f4007601b3",
   "metadata": {},
   "source": [
    "you are promoted to visit tensorflow playground"
   ]
  }
 ],
 "metadata": {
  "kernelspec": {
   "display_name": "Python 3 (ipykernel)",
   "language": "python",
   "name": "python3"
  },
  "language_info": {
   "codemirror_mode": {
    "name": "ipython",
    "version": 3
   },
   "file_extension": ".py",
   "mimetype": "text/x-python",
   "name": "python",
   "nbconvert_exporter": "python",
   "pygments_lexer": "ipython3",
   "version": "3.12.1"
  }
 },
 "nbformat": 4,
 "nbformat_minor": 5
}
