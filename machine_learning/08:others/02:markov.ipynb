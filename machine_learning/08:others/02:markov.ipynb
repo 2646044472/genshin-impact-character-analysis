{
 "cells": [
  {
   "cell_type": "code",
   "execution_count": 4,
   "id": "e133f51c",
   "metadata": {},
   "outputs": [],
   "source": [
    "import numpy as np\n",
    "state = np.array(['认真复习', '简单复习', '没有复习'])\n",
    "grade = np.array(['A+', 'A', 'A-', 'B+', 'B', 'B-', 'C+', 'C', 'C-'])\n",
    "n_state = len(state)\n",
    "m_grade = len(grade)\n",
    "pi = np.ones(n_state)/n_state\n",
    "t = np.array([\n",
    "    [0.4, 0.3, 0.3],\n",
    "    [0.3, 0.4, 0.3],\n",
    "    [0.3, 0.3, 0.4]\n",
    "])\n",
    "e = np.zeros([3, 9])\n",
    "e[0, :9]=1/9\n",
    "e[1, 3:9]=1/6\n",
    "e[2, 5:9]=1/4"
   ]
  },
  {
   "cell_type": "code",
   "execution_count": 5,
   "id": "6561bc25",
   "metadata": {},
   "outputs": [
    {
     "name": "stdout",
     "output_type": "stream",
     "text": [
      "初始概率矩阵：\n",
      " [0.33333333 0.33333333 0.33333333]\n",
      "转移矩阵：\n",
      " [[0.4 0.3 0.3]\n",
      " [0.3 0.4 0.3]\n",
      " [0.3 0.3 0.4]]\n",
      "发射矩阵：\n",
      " [[0.11111111 0.11111111 0.11111111 0.11111111 0.11111111 0.11111111\n",
      "  0.11111111 0.11111111 0.11111111]\n",
      " [0.         0.         0.         0.16666667 0.16666667 0.16666667\n",
      "  0.16666667 0.16666667 0.16666667]\n",
      " [0.         0.         0.         0.         0.         0.25\n",
      "  0.25       0.25       0.25      ]]\n"
     ]
    }
   ],
   "source": [
    "print(\"初始概率矩阵：\\n\", pi)\n",
    "print(\"转移矩阵：\\n\", t)\n",
    "print(\"发射矩阵：\\n\", e)"
   ]
  },
  {
   "cell_type": "code",
   "execution_count": 6,
   "id": "83322a20",
   "metadata": {},
   "outputs": [
    {
     "name": "stdout",
     "output_type": "stream",
     "text": [
      "Collecting hmmlearn\n",
      "  Downloading hmmlearn-0.3.2-cp39-cp39-manylinux_2_17_x86_64.manylinux2014_x86_64.whl (161 kB)\n",
      "\u001b[2K     \u001b[38;2;114;156;31m━━━━━━━━━━━━━━━━━━━━━━━━━━━━━━━━━━━━━━━\u001b[0m \u001b[32m161.3/161.3 kB\u001b[0m \u001b[31m1.7 MB/s\u001b[0m eta \u001b[36m0:00:00\u001b[0m MB/s\u001b[0m eta \u001b[36m0:00:01\u001b[0m\n",
      "\u001b[?25hRequirement already satisfied: numpy>=1.10 in /home/ubuntu-user/anaconda3/lib/python3.9/site-packages (from hmmlearn) (1.24.4)\n",
      "Requirement already satisfied: scikit-learn!=0.22.0,>=0.16 in /home/ubuntu-user/anaconda3/lib/python3.9/site-packages (from hmmlearn) (1.0.2)\n",
      "Requirement already satisfied: scipy>=0.19 in /home/ubuntu-user/anaconda3/lib/python3.9/site-packages (from hmmlearn) (1.9.1)\n",
      "Requirement already satisfied: threadpoolctl>=2.0.0 in /home/ubuntu-user/anaconda3/lib/python3.9/site-packages (from scikit-learn!=0.22.0,>=0.16->hmmlearn) (2.2.0)\n",
      "Requirement already satisfied: joblib>=0.11 in /home/ubuntu-user/anaconda3/lib/python3.9/site-packages (from scikit-learn!=0.22.0,>=0.16->hmmlearn) (1.1.0)\n",
      "Installing collected packages: hmmlearn\n",
      "Successfully installed hmmlearn-0.3.2\n",
      "Note: you may need to restart the kernel to use updated packages.\n"
     ]
    }
   ],
   "source": [
    "pip install hmmlearn"
   ]
  },
  {
   "cell_type": "code",
   "execution_count": 7,
   "id": "c668635d",
   "metadata": {},
   "outputs": [],
   "source": [
    "from hmmlearn.hmm import CategoricalHMM\n",
    "hmm = CategoricalHMM(n_state)"
   ]
  },
  {
   "cell_type": "code",
   "execution_count": 8,
   "id": "b5345e7c",
   "metadata": {},
   "outputs": [],
   "source": [
    "hmm.startprob_ = pi\n",
    "hmm.transmat_ = t\n",
    "hmm.emissionprob_ = e\n",
    "hmm.n_features = 9"
   ]
  },
  {
   "cell_type": "code",
   "execution_count": 10,
   "id": "39374125",
   "metadata": {},
   "outputs": [],
   "source": [
    "datas = np.array([0, 4, 2, 6, 1])\n",
    "datas = np.expand_dims(datas, axis=1)\n",
    "states = hmm.predict(datas)"
   ]
  },
  {
   "cell_type": "code",
   "execution_count": 11,
   "id": "cd2f2f4a",
   "metadata": {},
   "outputs": [
    {
     "data": {
      "text/plain": [
       "array([0, 0, 0, 2, 0])"
      ]
     },
     "execution_count": 11,
     "metadata": {},
     "output_type": "execute_result"
    }
   ],
   "source": [
    "states"
   ]
  },
  {
   "cell_type": "code",
   "execution_count": 13,
   "id": "5f052c49",
   "metadata": {},
   "outputs": [
    {
     "data": {
      "text/plain": [
       "-14.003674820375014"
      ]
     },
     "execution_count": 13,
     "metadata": {},
     "output_type": "execute_result"
    }
   ],
   "source": [
    "prob = hmm.score(datas)\n",
    "prob"
   ]
  },
  {
   "cell_type": "code",
   "execution_count": 14,
   "id": "027fff3c",
   "metadata": {},
   "outputs": [
    {
     "name": "stdout",
     "output_type": "stream",
     "text": [
      "8.284786081615825e-07\n"
     ]
    }
   ],
   "source": [
    "print(np.exp(prob))"
   ]
  },
  {
   "cell_type": "code",
   "execution_count": 15,
   "id": "ee2ef68d",
   "metadata": {},
   "outputs": [],
   "source": [
    "data, states = hmm.sample(10000)"
   ]
  },
  {
   "cell_type": "code",
   "execution_count": 19,
   "id": "25af650f",
   "metadata": {},
   "outputs": [
    {
     "name": "stdout",
     "output_type": "stream",
     "text": [
      "[[0.39280268 0.30802074 0.29917658]\n",
      " [0.29535736 0.39340257 0.31124007]\n",
      " [0.29732869 0.28368177 0.41898955]]\n"
     ]
    }
   ],
   "source": [
    "t_2 = np.zeros((3,3))\n",
    "for i in range(3):\n",
    "    current = np.where(states == i)[0]\n",
    "    next_index = current+1\n",
    "    next_index = next_index[:-1]\n",
    "    \n",
    "    tmp = states[next_index]\n",
    "    for j in range(3):\n",
    "        t_2[i][j] = np.where(tmp==j)[0].shape[0]/np.shape(tmp)[0]\n",
    "print(t_2)"
   ]
  }
 ],
 "metadata": {
  "kernelspec": {
   "display_name": "Python 3 (ipykernel)",
   "language": "python",
   "name": "python3"
  },
  "language_info": {
   "codemirror_mode": {
    "name": "ipython",
    "version": 3
   },
   "file_extension": ".py",
   "mimetype": "text/x-python",
   "name": "python",
   "nbconvert_exporter": "python",
   "pygments_lexer": "ipython3",
   "version": "3.9.13"
  }
 },
 "nbformat": 4,
 "nbformat_minor": 5
}
