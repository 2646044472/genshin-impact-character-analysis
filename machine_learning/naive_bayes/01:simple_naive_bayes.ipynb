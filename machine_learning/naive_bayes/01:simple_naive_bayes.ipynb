{
 "cells": [
  {
   "cell_type": "code",
   "execution_count": 1,
   "id": "412d8616-6019-4c6d-b0e5-6f2405c3cf74",
   "metadata": {},
   "outputs": [],
   "source": [
    "import numpy as np\n",
    "X = [[1, 0, 0, 1], [0, 1, 0, 0], [1, 1, 0, 0], [0, 1, 2, 0],\n",
    "     [1, 0, 0, 0], [1, 0, 0, 0], [1, 1, 2, 1], [0, 1, 1, 0],\n",
    "     [1, 1, 1, 0], [0, 0, 2, 0], [1, 1, 0, 1], [1, 1, 0, 1]]\n",
    "y = [0, 0, 1, 1, 0, 0, 1, 1, 1, 1, 0, 0]\n",
    "t = [[0, 0, 0, 1]]"
   ]
  },
  {
   "cell_type": "code",
   "execution_count": 2,
   "id": "c10dc842-8f1f-40e5-aee3-42755ba33a5b",
   "metadata": {},
   "outputs": [],
   "source": [
    "from sklearn.naive_bayes import BernoulliNB"
   ]
  },
  {
   "cell_type": "code",
   "execution_count": 3,
   "id": "edcf67b7-b621-4ab5-8ae9-76023e5fbd43",
   "metadata": {},
   "outputs": [
    {
     "data": {
      "text/plain": [
       "array([[0.875, 0.125]])"
      ]
     },
     "execution_count": 3,
     "metadata": {},
     "output_type": "execute_result"
    }
   ],
   "source": [
    "bnb = BernoulliNB()\n",
    "bnb.fit(X,y)\n",
    "bnb.predict_proba(t)"
   ]
  },
  {
   "cell_type": "markdown",
   "id": "b9b50f20-a870-40a1-a7c3-66031922c05f",
   "metadata": {},
   "source": [
    "### 分类器效果比较"
   ]
  },
  {
   "cell_type": "code",
   "execution_count": 4,
   "id": "884a6651-cd1b-4287-b8b3-29bb8112a01f",
   "metadata": {},
   "outputs": [],
   "source": [
    "from sklearn.datasets import load_iris\n",
    "from sklearn.model_selection import train_test_split\n",
    "\n",
    "# Load the Iris dataset\n",
    "iris = load_iris()\n",
    "\n",
    "# Split the dataset into training and testing sets\n",
    "x_train, x_test, y_train, y_test = train_test_split(iris.data, iris.target, test_size=0.25, random_state=0)"
   ]
  },
  {
   "cell_type": "code",
   "execution_count": 5,
   "id": "57dcf141-bea4-4493-a25e-0e351ed128d5",
   "metadata": {},
   "outputs": [
    {
     "data": {
      "text/plain": [
       "0.23684210526315788"
      ]
     },
     "execution_count": 5,
     "metadata": {},
     "output_type": "execute_result"
    }
   ],
   "source": [
    "from sklearn.naive_bayes import BernoulliNB\n",
    "nb = BernoulliNB()\n",
    "nb.fit(x_train,y_train)\n",
    "nb.score(x_test,y_test)"
   ]
  },
  {
   "cell_type": "markdown",
   "id": "28c55a2f-d341-4651-8de0-c3460d18ffa5",
   "metadata": {},
   "source": [
    "因为不是离散分布"
   ]
  },
  {
   "cell_type": "code",
   "execution_count": 6,
   "id": "0451c763-abaa-459d-8981-79ec2df23e22",
   "metadata": {},
   "outputs": [
    {
     "data": {
      "text/plain": [
       "1.0"
      ]
     },
     "execution_count": 6,
     "metadata": {},
     "output_type": "execute_result"
    }
   ],
   "source": [
    "from sklearn.naive_bayes import GaussianNB\n",
    "nb = GaussianNB()\n",
    "nb.fit(x_train,y_train)\n",
    "nb.score(x_test,y_test)"
   ]
  },
  {
   "cell_type": "code",
   "execution_count": 7,
   "id": "81e7a3b3-e2e8-46d4-9776-448596cf20be",
   "metadata": {},
   "outputs": [
    {
     "data": {
      "text/plain": [
       "0.8947368421052632"
      ]
     },
     "execution_count": 7,
     "metadata": {},
     "output_type": "execute_result"
    }
   ],
   "source": [
    "from sklearn.naive_bayes import CategoricalNB\n",
    "nb = CategoricalNB()\n",
    "nb.fit(x_train,y_train)\n",
    "nb.score(x_test,y_test)"
   ]
  },
  {
   "cell_type": "code",
   "execution_count": 8,
   "id": "764658d2-bef8-4a41-8d0f-e5eff79cb1ce",
   "metadata": {},
   "outputs": [
    {
     "data": {
      "text/plain": [
       "0.5789473684210527"
      ]
     },
     "execution_count": 8,
     "metadata": {},
     "output_type": "execute_result"
    }
   ],
   "source": [
    "from sklearn.naive_bayes import MultinomialNB\n",
    "nb = MultinomialNB()\n",
    "nb.fit(x_train,y_train)\n",
    "nb.score(x_test,y_test)"
   ]
  },
  {
   "cell_type": "code",
   "execution_count": 9,
   "id": "cb2ca1ba-7b43-414b-8903-7a467f87eae5",
   "metadata": {},
   "outputs": [
    {
     "data": {
      "text/plain": [
       "0.5789473684210527"
      ]
     },
     "execution_count": 9,
     "metadata": {},
     "output_type": "execute_result"
    }
   ],
   "source": [
    "from sklearn.naive_bayes import ComplementNB\n",
    "nb = ComplementNB()\n",
    "nb.fit(x_train,y_train)\n",
    "nb.score(x_test,y_test)"
   ]
  }
 ],
 "metadata": {
  "kernelspec": {
   "display_name": "Python 3 (ipykernel)",
   "language": "python",
   "name": "python3"
  },
  "language_info": {
   "codemirror_mode": {
    "name": "ipython",
    "version": 3
   },
   "file_extension": ".py",
   "mimetype": "text/x-python",
   "name": "python",
   "nbconvert_exporter": "python",
   "pygments_lexer": "ipython3",
   "version": "3.12.1"
  }
 },
 "nbformat": 4,
 "nbformat_minor": 5
}
